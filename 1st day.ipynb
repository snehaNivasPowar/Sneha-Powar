{
 "cells": [
  {
   "cell_type": "code",
   "execution_count": 4,
   "id": "dddd6b6e-caf3-455b-80a8-ff0e0ceca25f",
   "metadata": {},
   "outputs": [
    {
     "name": "stdout",
     "output_type": "stream",
     "text": [
      "ok\n"
     ]
    }
   ],
   "source": [
    "#check the num greater than 50\n",
    "num = 51 #num= int(input('enter the number')) for user value\n",
    "if num > 50:\n",
    "    print('ok')"
   ]
  },
  {
   "cell_type": "code",
   "execution_count": 15,
   "id": "14022d06-40bf-471d-ad53-876168110bf0",
   "metadata": {},
   "outputs": [
    {
     "ename": "IndentationError",
     "evalue": "unexpected indent (4291881937.py, line 4)",
     "output_type": "error",
     "traceback": [
      "\u001b[1;36m  Cell \u001b[1;32mIn[15], line 4\u001b[1;36m\u001b[0m\n\u001b[1;33m    if num > 0:\u001b[0m\n\u001b[1;37m    ^\u001b[0m\n\u001b[1;31mIndentationError\u001b[0m\u001b[1;31m:\u001b[0m unexpected indent\n"
     ]
    }
   ],
   "source": [
    "#positive or negative\n",
    "num = int(intput('enter the number'))\n",
    "\n",
    "          if num > 0:\n",
    "                 print('positive')\n",
    "                 print('ok')\n",
    "          else:\n",
    "                 print('negative')\n",
    "                 print('good')"
   ]
  },
  {
   "cell_type": "code",
   "execution_count": 14,
   "id": "e64b8e7f-4355-4c97-bd19-e04beac6cf32",
   "metadata": {},
   "outputs": [
    {
     "name": "stdin",
     "output_type": "stream",
     "text": [
      "enter the number 0\n"
     ]
    },
    {
     "name": "stdout",
     "output_type": "stream",
     "text": [
      "zero\n"
     ]
    }
   ],
   "source": [
    "num = int(input('enter the number'))\n",
    "if num > 0:\n",
    "    print('positive')\n",
    "elif num ==0:\n",
    "    print('zero')\n",
    "else:\n",
    "    print('negative')"
   ]
  },
  {
   "cell_type": "code",
   "execution_count": 18,
   "id": "dbebe67e-d62f-4c9d-a351-7c35f0b37679",
   "metadata": {},
   "outputs": [
    {
     "name": "stdin",
     "output_type": "stream",
     "text": [
      "enter the number 4\n"
     ]
    },
    {
     "name": "stdout",
     "output_type": "stream",
     "text": [
      "num is even\n"
     ]
    }
   ],
   "source": [
    "#check number is odd or even\n",
    "\n",
    "num = int(input('enter the number'))\n",
    "if num %2:\n",
    "    print('num is odd')\n",
    "else :\n",
    "    print('num is even')"
   ]
  },
  {
   "cell_type": "code",
   "execution_count": 23,
   "id": "f4d3087f-9c7d-4dac-b101-800c14bc5b35",
   "metadata": {},
   "outputs": [
    {
     "ename": "NameError",
     "evalue": "name 'pritn' is not defined",
     "output_type": "error",
     "traceback": [
      "\u001b[1;31m---------------------------------------------------------------------------\u001b[0m",
      "\u001b[1;31mNameError\u001b[0m                                 Traceback (most recent call last)",
      "Cell \u001b[1;32mIn[23], line 6\u001b[0m\n\u001b[0;32m      4\u001b[0m a\u001b[38;5;241m=\u001b[39m\u001b[38;5;241m10\u001b[39m\n\u001b[0;32m      5\u001b[0m \u001b[38;5;28;01mif\u001b[39;00m a:\n\u001b[1;32m----> 6\u001b[0m     pritn(\u001b[38;5;124m'\u001b[39m\u001b[38;5;124m***\u001b[39m\u001b[38;5;124m'\u001b[39m)\n",
      "\u001b[1;31mNameError\u001b[0m: name 'pritn' is not defined"
     ]
    }
   ],
   "source": [
    "#true or false\n",
    "int(True)\n",
    "\n"
   ]
  },
  {
   "cell_type": "code",
   "execution_count": 25,
   "id": "cefdc549-e9d2-407a-99b9-ada262f23209",
   "metadata": {},
   "outputs": [
    {
     "name": "stdout",
     "output_type": "stream",
     "text": [
      "***\n"
     ]
    }
   ],
   "source": [
    "a = 10\n",
    "if a:\n",
    "    print('***')\n"
   ]
  },
  {
   "cell_type": "code",
   "execution_count": 26,
   "id": "1ed5673a-4a5b-4af6-b114-c5d86773c8c6",
   "metadata": {},
   "outputs": [
    {
     "name": "stdin",
     "output_type": "stream",
     "text": [
      "enter the number 55\n"
     ]
    },
    {
     "name": "stdout",
     "output_type": "stream",
     "text": [
      "correct\n"
     ]
    }
   ],
   "source": [
    "#check num between 50 and 150\n",
    "num = int(input('enter the number'))\n",
    "\n",
    "if num > 50:\n",
    "    if num < 150:\n",
    "        print('correct')\n",
    "    else:\n",
    "        print('greater than 150')\n",
    "else:\n",
    "    print('incorrect')\n",
    "        "
   ]
  },
  {
   "cell_type": "code",
   "execution_count": 27,
   "id": "dc69634b-6a6f-4a0a-a9d1-1b68b9bcfca6",
   "metadata": {},
   "outputs": [
    {
     "name": "stdin",
     "output_type": "stream",
     "text": [
      "enter the number 23\n"
     ]
    },
    {
     "name": "stdout",
     "output_type": "stream",
     "text": [
      "incorrect\n"
     ]
    }
   ],
   "source": [
    "# using operator\n",
    "num = int(input('enter the number'))\n",
    "\n",
    "if num > 50 and num < 150:\n",
    "    print('correct')\n",
    "else:\n",
    "    print('incorrect')"
   ]
  },
  {
   "cell_type": "code",
   "execution_count": 36,
   "id": "304ba79c-a2cd-4cfa-a92e-8b2d765ac5a3",
   "metadata": {},
   "outputs": [
    {
     "name": "stdin",
     "output_type": "stream",
     "text": [
      "enter the number 200\n"
     ]
    },
    {
     "name": "stdout",
     "output_type": "stream",
     "text": [
      "profit\n"
     ]
    }
   ],
   "source": [
    "# read selling cost and purchse cost find the profit or loss\n",
    "\n",
    "num = int(input('enter the number')) \n",
    "if num <150 and num > 150:\n",
    "    print (' in loss')\n",
    "else:\n",
    "    print('profit')\n",
    "\n"
   ]
  },
  {
   "cell_type": "code",
   "execution_count": 40,
   "id": "ea0b3a2b-61d0-4e56-8c98-164a27c823eb",
   "metadata": {},
   "outputs": [
    {
     "ename": "IndentationError",
     "evalue": "unexpected indent (1275956215.py, line 3)",
     "output_type": "error",
     "traceback": [
      "\u001b[1;36m  Cell \u001b[1;32mIn[40], line 3\u001b[1;36m\u001b[0m\n\u001b[1;33m    if selling_cost > purchase_cost:\u001b[0m\n\u001b[1;37m    ^\u001b[0m\n\u001b[1;31mIndentationError\u001b[0m\u001b[1;31m:\u001b[0m unexpected indent\n"
     ]
    }
   ],
   "source": [
    "selling_cost = int(input('enter the selling  cost'))\n",
    "purshse_cost = int(input('enter the purshse cost'))\n",
    " if selling_cost > purchase_cost:\n",
    "     print('profit:',selling_cost - purchase_cost)\n",
    " else:\n",
    "     print('loss:', purchase-cost - selling_cost) \n",
    "     "
   ]
  },
  {
   "cell_type": "code",
   "execution_count": 42,
   "id": "452c7720-866f-4a7d-9d56-3ca13738e97e",
   "metadata": {},
   "outputs": [
    {
     "name": "stdout",
     "output_type": "stream",
     "text": [
      "num3 is greater\n"
     ]
    }
   ],
   "source": [
    "#find the largest of 3 number\n",
    "# without using operators\n",
    "num1,num2,num3 = 12,4,54\n",
    "if num1 > num2:\n",
    "    if num1 > num3:\n",
    "        print('num1 is greater')\n",
    "    else:\n",
    "        print('num3 is greater')\n",
    "else:\n",
    " print('num2 is greater')\n",
    "\n"
   ]
  },
  {
   "cell_type": "code",
   "execution_count": 43,
   "id": "8e10ec60-3809-4d2d-a6cb-70bba646ef46",
   "metadata": {},
   "outputs": [
    {
     "name": "stdin",
     "output_type": "stream",
     "text": [
      "enter the 1 number 12\n",
      "enter the 2 number 23\n",
      "enter the 3 number 2\n"
     ]
    },
    {
     "name": "stdout",
     "output_type": "stream",
     "text": [
      "num2 is greater\n"
     ]
    }
   ],
   "source": [
    "num1 = int(input('enter the 1 number')) \n",
    "num2 = int(input('enter the 2 number')) \n",
    "num3 = int(input('enter the 3 number')) \n",
    "if num1 > num2:\n",
    "    if num1 > num3:\n",
    "        print('num1 is greater')\n",
    "    else:\n",
    "        print('num3 is greater')\n",
    "else:\n",
    " print('num2 is greater')\n"
   ]
  },
  {
   "cell_type": "markdown",
   "id": "28ce7f40-7f47-4ed0-b875-b107282e6161",
   "metadata": {},
   "source": [
    "# 2020 => leap year \n",
    "# 2018 => not\n",
    "# 2000 => leap year\n",
    "# 1800 => not\n",
    "\n",
    "year = int(input('enter the year')) \n",
    "if year % 4:\n",
    " if year % 400:\n",
    " print('leap year')\n",
    " else:\n",
    " print('not leap')\n",
    "print('year is leap')\n",
    "else:\n",
    "print(year is not leap\n",
    "\n",
    "\n"
   ]
  },
  {
   "cell_type": "code",
   "execution_count": 61,
   "id": "90ee4074-b510-49d1-9345-be7714b81d3e",
   "metadata": {},
   "outputs": [
    {
     "name": "stdin",
     "output_type": "stream",
     "text": [
      "enter the year 1800\n"
     ]
    },
    {
     "name": "stdout",
     "output_type": "stream",
     "text": [
      "century but not leap\n"
     ]
    }
   ],
   "source": [
    "year = int(input('enter the year'))  \n",
    "\n",
    "if year % 4 ==0:\n",
    "    if year % 100 ==0:\n",
    "        if year % 400 == 0:\n",
    "            print('leap century year')\n",
    "        else:\n",
    "            print('century but not leap')\n",
    "    else:\n",
    "        print('leap year')\n",
    "else:\n",
    "      print('not leap')\n",
    "       "
   ]
  },
  {
   "cell_type": "code",
   "execution_count": 74,
   "id": "56d73ce9-d3bb-4e49-85a0-0993021dc356",
   "metadata": {},
   "outputs": [
    {
     "name": "stdin",
     "output_type": "stream",
     "text": [
      "enter marks 90\n",
      "enter marks 90\n",
      "enter marks 90\n",
      "enter marks 90\n",
      "enter marks 90\n"
     ]
    },
    {
     "name": "stdout",
     "output_type": "stream",
     "text": [
      "gread A\n"
     ]
    }
   ],
   "source": [
    "phys= float(input('enter marks')) \n",
    "chem= float(input('enter marks')) \n",
    "bio= float(input('enter marks')) \n",
    "maths= float(input('enter marks')) \n",
    "comp= float(input('enter marks')) \n",
    "\n",
    "perc =(phys+chem+bio+maths+comp)/500*100\n",
    "\n",
    "if perc>=90:\n",
    "    print('gread A')\n",
    "elif perc>=80:\n",
    "    print('gread B')\n",
    "elif perc>=70:\n",
    "    print('gread c') \n",
    "elif perc>=60:\n",
    "    print('gread D')\n",
    "elif perc>=40:\n",
    "    print('gread E')\n",
    "else:\n",
    "    print('fail')\n",
    "\n"
   ]
  },
  {
   "cell_type": "code",
   "execution_count": 79,
   "id": "2d88aafa-d455-48df-aec7-116843ef945a",
   "metadata": {},
   "outputs": [
    {
     "name": "stdin",
     "output_type": "stream",
     "text": [
      "enter the number 4\n"
     ]
    },
    {
     "name": "stdout",
     "output_type": "stream",
     "text": [
      "MENU \n",
      " 1.square\n",
      " 2.cube \n",
      "3.+ve or -ve\n"
     ]
    },
    {
     "name": "stdin",
     "output_type": "stream",
     "text": [
      "enter your choice 4\n"
     ]
    },
    {
     "name": "stdout",
     "output_type": "stream",
     "text": [
      "opps\n"
     ]
    }
   ],
   "source": [
    "# menu driven program\n",
    "'''\n",
    "take a number and based on the choice perform \n",
    "square,cube,check number is positive or negative\n",
    "'''\n",
    "\n",
    "num = int(input('enter the number'))\n",
    "print(\"MENU \\n 1.square\\n 2.cube \\n3.+ve or -ve\")\n",
    "\n",
    "choice= int(input('enter your choice'))\n",
    "if choice==1:\n",
    "    print('square is',num*num)\n",
    "elif choice==2:\n",
    "    print('cube is',num**3)\n",
    "elif choice==3:\n",
    "    if num>0:\n",
    "        print('positive')\n",
    "    else:\n",
    "        print('negative')\n",
    "else:\n",
    "    print('opps')\n",
    "\n",
    "          \n",
    "                "
   ]
  },
  {
   "cell_type": "code",
   "execution_count": 83,
   "id": "eab7578c-fa46-4056-b6ac-fb18b86fd86c",
   "metadata": {},
   "outputs": [
    {
     "name": "stdin",
     "output_type": "stream",
     "text": [
      "enter the number 5\n"
     ]
    },
    {
     "name": "stdout",
     "output_type": "stream",
     "text": [
      "MENU \n",
      " 1.addition\n",
      " 2.floor div \n",
      "3.+ve or -ve\n"
     ]
    },
    {
     "name": "stdin",
     "output_type": "stream",
     "text": [
      "enter your choice 1\n"
     ]
    },
    {
     "name": "stdout",
     "output_type": "stream",
     "text": [
      "addition is 10\n"
     ]
    }
   ],
   "source": [
    "num = int(input('enter the number'))\n",
    "\n",
    "print(\"MENU \\n 1.addition\\n 2.floor div \\n3.+ve or -ve\")\n",
    "\n",
    "choice= int(input('enter your choice'))\n",
    "if choice==1:\n",
    "    print('addition is',num+num)\n",
    "elif choice==2:\n",
    "    print('floor div is',num**3)\n",
    "elif choice==3:\n",
    "    if num>0:\n",
    "        print('positive')\n",
    "    else:\n",
    "        print('negative')\n",
    "else:\n",
    "    print('opps')"
   ]
  },
  {
   "cell_type": "code",
   "execution_count": null,
   "id": "699aae49-2add-41e7-bdae-ff9f35274998",
   "metadata": {},
   "outputs": [],
   "source": []
  }
 ],
 "metadata": {
  "kernelspec": {
   "display_name": "Python 3 (ipykernel)",
   "language": "python",
   "name": "python3"
  },
  "language_info": {
   "codemirror_mode": {
    "name": "ipython",
    "version": 3
   },
   "file_extension": ".py",
   "mimetype": "text/x-python",
   "name": "python",
   "nbconvert_exporter": "python",
   "pygments_lexer": "ipython3",
   "version": "3.11.7"
  }
 },
 "nbformat": 4,
 "nbformat_minor": 5
}
