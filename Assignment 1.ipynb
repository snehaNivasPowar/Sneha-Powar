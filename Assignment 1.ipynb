{
 "cells": [
  {
   "cell_type": "code",
   "execution_count": 37,
   "id": "3959e747-a1b8-49b9-a17a-ad45fad703f2",
   "metadata": {},
   "outputs": [
    {
     "name": "stdin",
     "output_type": "stream",
     "text": [
      "enter days as you want to convert into years, weeks and days 400\n"
     ]
    },
    {
     "name": "stdout",
     "output_type": "stream",
     "text": [
      "coversion is 1 : 57 : 400\n"
     ]
    }
   ],
   "source": [
    "#Q1 write a program to convert specified days into years,weeks and days.take user input  Note: ignore leap year\n",
    "\n",
    "days = int(input(\"enter days as you want to convert into years, weeks and days\"))\n",
    "\n",
    "years = days//365\n",
    "weeks = days//7\n",
    "rem_days = days//365\n",
    "rem_weeks = days//4\n",
    "\n",
    "print(\"coversion is\", years,':',weeks,':',days)\n"
   ]
  },
  {
   "cell_type": "code",
   "execution_count": 14,
   "id": "a19ad3b1-5c46-491e-b598-a73abde4d589",
   "metadata": {},
   "outputs": [
    {
     "name": "stdin",
     "output_type": "stream",
     "text": [
      "enter basic salary 21000\n"
     ]
    },
    {
     "name": "stdout",
     "output_type": "stream",
     "text": [
      "Gross_salary 48300.0\n"
     ]
    }
   ],
   "source": [
    "#Q2 write a paython program to input basic python salary of an employee and calculate its gross salar according to following:\n",
    "#basic salary <= 10000:HRA =20%, DA = 80%\n",
    "#basic salary <= 20000:HRA =30%, DA = 90%\n",
    "#basic salary > 20000:HRA =35%, DA = 95%\n",
    "\n",
    "Basic_salary = int(input(\"enter basic salary\"))\n",
    "if Basic_salary <= 10000:\n",
    "    DA = (Basic_salary*80)/100\n",
    "    HRA = (Basic_salary*20)/100\n",
    "    Gross_salary = Basic_salary+DA+HRA\n",
    "    print('Gross_salary',Gross_salary)\n",
    "\n",
    "elif Basic_salary <=20000:\n",
    "     DA = (Basic_salary*90)/100\n",
    "     HRA = (Basic_salary*30)/100\n",
    "     Gross_salary = Basic_salary+DA+HRA\n",
    "     print('Gross_salary',Gross_salary)\n",
    "\n",
    "else:\n",
    "    if Basic_salary > 2000:\n",
    "        DA = (Basic_salary*95)/100\n",
    "        HRA = (Basic_salary*35)/100\n",
    "        Gross_salary = Basic_salary+DA+HRA\n",
    "        print('Gross_salary',Gross_salary)#write a python program to print the given number patterns\n",
    "\n"
   ]
  },
  {
   "cell_type": "code",
   "execution_count": 18,
   "id": "6c229418-b914-4c09-a2ea-cc14cdd65797",
   "metadata": {},
   "outputs": [
    {
     "name": "stdin",
     "output_type": "stream",
     "text": [
      "enter the number of unit 300\n"
     ]
    },
    {
     "name": "stdout",
     "output_type": "stream",
     "text": [
      "electricity bill= 3097.0588235294117\n"
     ]
    }
   ],
   "source": [
    "#Q3 write a python program to input electricity unit charges and calculate total electricity bill according to the give condition:\n",
    "#for first 50 units RS. 0.50/unit\n",
    "#for next 100 units Rs.0.75/unit\n",
    "#for next 100 units Rs.1.23/unit\n",
    "#for unit above 250 Rs.1.50/unit\n",
    "#an additional surcharge of 17% is added to the bill\n",
    "\n",
    "unit  = int(input(\"enter the number of unit\"))\n",
    "if unit <= 50:\n",
    "    print('electricity bill=',unit*0.50,'rupees')\n",
    "\n",
    "elif unit >= 50 and unit <= 150:\n",
    "    print('electricity bill=',unit*0.70,'rupees')\n",
    "\n",
    "elif unit >= 150 and unit <= 200:\n",
    "    print('electricity bill=',unit*1.25,'rupees')\n",
    "else:\n",
    "    if unit>250:\n",
    "        electricity_bill = unit*1.50\n",
    "        extra_charge = (electricity_bill/17)*100\n",
    "        Total_charge = electricity_bill+extra_charge\n",
    "        print('electricity bill=',Total_charge)"
   ]
  },
  {
   "cell_type": "markdown",
   "id": "69d1f517-e007-46a8-972a-939cdb334e73",
   "metadata": {},
   "source": [
    "#write a python program to print given number patterns\n",
    "#1\n",
    "#2 2\n",
    "#3 3 3\n",
    "#4 4 4 4\n",
    "#5 5 5 5 5\n",
    "\n",
    "row = int(input(\"enter the numbers of rows\"))\n",
    "for i in range(row):\n",
    "    for j in range(i+1):\n",
    "    print(i+1,end='')\n",
    "print()\n",
    "    "
   ]
  },
  {
   "cell_type": "code",
   "execution_count": 22,
   "id": "20c87361-cb51-4ddc-a283-70f5db613172",
   "metadata": {},
   "outputs": [
    {
     "name": "stdin",
     "output_type": "stream",
     "text": [
      "enter the numbers of rows 5\n"
     ]
    },
    {
     "name": "stdout",
     "output_type": "stream",
     "text": [
      "1\n",
      "22\n",
      "333\n",
      "4444\n",
      "55555\n"
     ]
    }
   ],
   "source": [
    "#Q4 write a python program to print given number patterns\n",
    "#1\n",
    "#2 2\n",
    "#3 3 3\n",
    "#4 4 4 4\n",
    "#5 5 5 5 5\n",
    "\n",
    "row = int(input(\"enter the numbers of rows\")) \n",
    "for i in range(row):\n",
    "    for j in range(i+1):\n",
    "        print(i+1,end='')\n",
    "    print()   "
   ]
  },
  {
   "cell_type": "code",
   "execution_count": 25,
   "id": "c103793e-9fb5-423e-965c-377a87f02532",
   "metadata": {},
   "outputs": [
    {
     "name": "stdin",
     "output_type": "stream",
     "text": [
      "enter the number 12345\n"
     ]
    },
    {
     "name": "stdout",
     "output_type": "stream",
     "text": [
      "addtion of digits is: 5\n",
      "addtion of digits is: 20\n",
      "addtion of digits is: 60\n",
      "addtion of digits is: 120\n",
      "addtion of digits is: 120\n"
     ]
    }
   ],
   "source": [
    "#Q5 write a python program to calculate product of digits of a number . Read value of n from user\n",
    "\n",
    "num = int(input('enter the number'))\n",
    "pod = 1\n",
    "while num>0:\n",
    "    rem = num % 10\n",
    "    pod = pod*rem\n",
    "    num = num//10\n",
    "    print('addtion of digits is:',pod)"
   ]
  },
  {
   "cell_type": "code",
   "execution_count": 27,
   "id": "8943dc71-7415-4bac-8672-efe08f28adf3",
   "metadata": {},
   "outputs": [
    {
     "data": {
      "text/plain": [
       "(1, 5, 2.5, 0.5, 8.5, 5.5)"
      ]
     },
     "execution_count": 27,
     "metadata": {},
     "output_type": "execute_result"
    }
   ],
   "source": [
    "#Q7 create a tuple of elements with 5 values in it and perform following operations \n",
    "# 1.print the data in sorted manner\n",
    "#2. check to see that element 50 is present in it\n",
    "#3. convert the tuple in set \n",
    "\n",
    "#tuple create\n",
    "t = (1,5,2.5,0.5,8.5,5.5)\n",
    "t"
   ]
  },
  {
   "cell_type": "code",
   "execution_count": 14,
   "id": "883f73e3-c87a-48ae-a191-2891ad782bbb",
   "metadata": {},
   "outputs": [
    {
     "data": {
      "text/plain": [
       "[45, 67, 12, 'hello', 23, 45, 'world']"
      ]
     },
     "execution_count": 14,
     "metadata": {},
     "output_type": "execute_result"
    }
   ],
   "source": [
    "#Q6 create a list of element like , x=[45,67,12,'hello',23,45,'world'] and perform followimg operation \n",
    "\n",
    "#1.exreact only string value from this list\n",
    "#2.create a new list eith string in upper case.\n",
    "#3.find the additio of interger values.\n",
    "#4.check that the value 56 is present in it or not\n",
    "#5. print the list in reverse order.\n",
    "#6.delete the string 'hello' from it\n",
    "#7.insert a new value of 36 at 5th position in list.\n",
    "#8.count total number of element in list now.\n",
    "#9.extract the values from 2nd index of 5th index\n",
    "#10. append[34,'pune']to this lisst.\n",
    "#11.delete the last element from list.\n",
    "\n",
    "\n",
    "#list created\n",
    "x=[45,67,12,'hello',23,45,'world']\n",
    "x"
   ]
  },
  {
   "cell_type": "code",
   "execution_count": 28,
   "id": "67838a44-cf8e-4736-b4d5-0c50867615fd",
   "metadata": {},
   "outputs": [],
   "source": [
    "t1= list(t)"
   ]
  },
  {
   "cell_type": "code",
   "execution_count": 29,
   "id": "e57d8f5c-2636-42de-afc3-8a0e714b3cfd",
   "metadata": {},
   "outputs": [],
   "source": [
    "t1.sort()"
   ]
  },
  {
   "cell_type": "code",
   "execution_count": 30,
   "id": "316a140e-ac16-4f5d-84e5-fbea507c215c",
   "metadata": {},
   "outputs": [
    {
     "data": {
      "text/plain": [
       "[0.5, 1, 2.5, 5, 5.5, 8.5]"
      ]
     },
     "execution_count": 30,
     "metadata": {},
     "output_type": "execute_result"
    }
   ],
   "source": [
    "t1"
   ]
  },
  {
   "cell_type": "code",
   "execution_count": 31,
   "id": "9f919b8b-c1f2-4965-adf6-b790aeef8bc8",
   "metadata": {},
   "outputs": [
    {
     "data": {
      "text/plain": [
       "False"
      ]
     },
     "execution_count": 31,
     "metadata": {},
     "output_type": "execute_result"
    }
   ],
   "source": [
    "#2 \n",
    "50 in t1"
   ]
  },
  {
   "cell_type": "code",
   "execution_count": 32,
   "id": "abf4a5b6-1706-4c29-8772-5c3122220fc3",
   "metadata": {},
   "outputs": [],
   "source": [
    "#3\n",
    "s=set(t)"
   ]
  },
  {
   "cell_type": "code",
   "execution_count": 33,
   "id": "7b2cefe0-586d-4c16-b98f-150121cfb570",
   "metadata": {},
   "outputs": [
    {
     "data": {
      "text/plain": [
       "{0.5, 1, 2.5, 5, 5.5, 8.5}"
      ]
     },
     "execution_count": 33,
     "metadata": {},
     "output_type": "execute_result"
    }
   ],
   "source": [
    "s"
   ]
  },
  {
   "cell_type": "code",
   "execution_count": 36,
   "id": "43810cd7-981d-4588-815f-cbdc1324c98c",
   "metadata": {},
   "outputs": [
    {
     "data": {
      "text/plain": [
       "{'a': 'apple', 'b': 'ball', 'c': 'cat', 'd': 'doll', 'k': 'king'}"
      ]
     },
     "execution_count": 36,
     "metadata": {},
     "output_type": "execute_result"
    }
   ],
   "source": [
    "#Q8. create a dictionary of element :{'a':'apple','b':'ball','c','cat','d':'doll','k':'king'} and perform following operations\n",
    "#1.access the data at key 'k'\n",
    "#2.add a new value 'z':'zebra'\n",
    "#3. replace the contentsof 'd' as 'dog'\n",
    "#4. print all the value from this dictionary\n",
    "#5.find the length of this dictionary\n",
    "\n",
    "#dictionary created \n",
    "d = {'a':'apple','b':'ball','c':'cat','d':'doll','k':'king'} \n",
    "d"
   ]
  },
  {
   "cell_type": "code",
   "execution_count": 37,
   "id": "c20fa444-33c7-45b1-a84c-bac331141822",
   "metadata": {},
   "outputs": [
    {
     "data": {
      "text/plain": [
       "'king'"
      ]
     },
     "execution_count": 37,
     "metadata": {},
     "output_type": "execute_result"
    }
   ],
   "source": [
    "#1.\n",
    "d['k']"
   ]
  },
  {
   "cell_type": "code",
   "execution_count": 38,
   "id": "ffb13fc3-69b7-429d-80b9-de05120be411",
   "metadata": {},
   "outputs": [],
   "source": [
    "#2\n",
    "d['z']='zebra'"
   ]
  },
  {
   "cell_type": "code",
   "execution_count": 39,
   "id": "7f8a714d-3a25-4a83-ac78-174d41115f7e",
   "metadata": {},
   "outputs": [
    {
     "data": {
      "text/plain": [
       "{'a': 'apple', 'b': 'ball', 'c': 'cat', 'd': 'doll', 'k': 'king', 'z': 'zebra'}"
      ]
     },
     "execution_count": 39,
     "metadata": {},
     "output_type": "execute_result"
    }
   ],
   "source": [
    "d"
   ]
  },
  {
   "cell_type": "code",
   "execution_count": 41,
   "id": "d697c116-0b40-470a-ab7d-a4092c257d95",
   "metadata": {},
   "outputs": [],
   "source": [
    "#3.\n",
    "d['d'] = 'dog'"
   ]
  },
  {
   "cell_type": "code",
   "execution_count": 42,
   "id": "ab5e78d3-e0db-4d8b-ba37-ce3b62a11fdf",
   "metadata": {},
   "outputs": [
    {
     "data": {
      "text/plain": [
       "{'a': 'apple', 'b': 'ball', 'c': 'cat', 'd': 'dog', 'k': 'king', 'z': 'zebra'}"
      ]
     },
     "execution_count": 42,
     "metadata": {},
     "output_type": "execute_result"
    }
   ],
   "source": [
    "d"
   ]
  },
  {
   "cell_type": "code",
   "execution_count": 43,
   "id": "969a4d3d-2694-4798-a4c3-0530ec80bde4",
   "metadata": {},
   "outputs": [
    {
     "data": {
      "text/plain": [
       "dict_values(['apple', 'ball', 'cat', 'dog', 'king', 'zebra'])"
      ]
     },
     "execution_count": 43,
     "metadata": {},
     "output_type": "execute_result"
    }
   ],
   "source": [
    "#4.\n",
    "d.values()"
   ]
  },
  {
   "cell_type": "code",
   "execution_count": 44,
   "id": "7e26a8e0-ff49-4406-bfaa-56ec7a480389",
   "metadata": {},
   "outputs": [
    {
     "data": {
      "text/plain": [
       "6"
      ]
     },
     "execution_count": 44,
     "metadata": {},
     "output_type": "execute_result"
    }
   ],
   "source": [
    "#5\n",
    "len(d)"
   ]
  },
  {
   "cell_type": "code",
   "execution_count": 47,
   "id": "ae978d65-9b24-49d9-9ee9-6a72f6b9c418",
   "metadata": {},
   "outputs": [],
   "source": [
    "#Q09. write a program to find the second largest element in a list\n",
    "\n",
    "l = [19,34,22,15,89]"
   ]
  },
  {
   "cell_type": "code",
   "execution_count": 48,
   "id": "70614157-fd45-4475-819d-a5a4a4cc28c0",
   "metadata": {},
   "outputs": [
    {
     "data": {
      "text/plain": [
       "[19, 34, 22, 15, 89]"
      ]
     },
     "execution_count": 48,
     "metadata": {},
     "output_type": "execute_result"
    }
   ],
   "source": [
    "l"
   ]
  },
  {
   "cell_type": "code",
   "execution_count": 49,
   "id": "6a89595f-71c4-4ead-8f9e-e01732b7e9c7",
   "metadata": {},
   "outputs": [],
   "source": [
    "t=sorted(l,reverse=True)"
   ]
  },
  {
   "cell_type": "code",
   "execution_count": 50,
   "id": "ce935408-dda9-4b52-a585-f87d1f8df896",
   "metadata": {},
   "outputs": [
    {
     "data": {
      "text/plain": [
       "[89, 34, 22, 19, 15]"
      ]
     },
     "execution_count": 50,
     "metadata": {},
     "output_type": "execute_result"
    }
   ],
   "source": [
    "t"
   ]
  },
  {
   "cell_type": "code",
   "execution_count": 51,
   "id": "d4e65d97-eab6-425a-87af-ffec1325d211",
   "metadata": {},
   "outputs": [
    {
     "data": {
      "text/plain": [
       "34"
      ]
     },
     "execution_count": 51,
     "metadata": {},
     "output_type": "execute_result"
    }
   ],
   "source": [
    "t[1]"
   ]
  },
  {
   "cell_type": "code",
   "execution_count": 3,
   "id": "a9b9608a-fbe1-4ae1-8186-f59f80071530",
   "metadata": {},
   "outputs": [],
   "source": [
    "#10. this is a list of some metallic element  metals =['silver','gold'....]\n",
    "#make a new list that is almost identical to the metals list :the new contains same as items,in the same order\n",
    "#except that it does NOT contain the item 'copper'\n",
    "\n",
    "metals = ['silver','gold','mercury','iron','cobolt']\n",
    "\n",
    "\n"
   ]
  },
  {
   "cell_type": "code",
   "execution_count": 4,
   "id": "eb5e85c3-c151-42c6-9a87-f53dcfdc2085",
   "metadata": {},
   "outputs": [
    {
     "data": {
      "text/plain": [
       "['silver', 'gold', 'mercury', 'iron', 'cobolt']"
      ]
     },
     "execution_count": 4,
     "metadata": {},
     "output_type": "execute_result"
    }
   ],
   "source": [
    "metals"
   ]
  },
  {
   "cell_type": "code",
   "execution_count": 13,
   "id": "4202f34e-ab57-449c-aa9d-63f00f69c3d5",
   "metadata": {},
   "outputs": [
    {
     "name": "stdout",
     "output_type": "stream",
     "text": [
      "['silver', 'gold', 'mercury', 'iron', 'cobolt']\n"
     ]
    }
   ],
   "source": [
    "#create with out 'copper'\n",
    "new_metals = [metals for metals in metals if metals != 'copper']\n",
    "\n",
    "print(new_metals)"
   ]
  },
  {
   "cell_type": "code",
   "execution_count": 15,
   "id": "423d561f-63f1-412d-bb32-1955e2447b7a",
   "metadata": {},
   "outputs": [
    {
     "data": {
      "text/plain": [
       "[45, 67, 12, 'hello', 23, 45, 'world']"
      ]
     },
     "execution_count": 15,
     "metadata": {},
     "output_type": "execute_result"
    }
   ],
   "source": [
    "#Q6 create a list of element like , x=[45,67,12,'hello',23,45,'world'] and perform followimg operation \n",
    "\n",
    "#1.exreact only string value from this list\n",
    "#2.create a new list eith string in upper case.\n",
    "#3.find the additio of interger values.\n",
    "#4.check that the value 56 is present in it or not\n",
    "#5. print the list in reverse order.\n",
    "#6.delete the string 'hello' from it\n",
    "#7.insert a new value of 36 at 5th position in list.\n",
    "#8.count total number of element in list now.\n",
    "#9.extract the values from 2nd index of 5th index\n",
    "#10. append[34,'pune']to this lisst.\n",
    "#11.delete the last element from list.\n",
    "\n",
    "\n",
    "#list created\n",
    "x=[45,67,12,'hello',23,45,'world']\n",
    "x"
   ]
  },
  {
   "cell_type": "code",
   "execution_count": 17,
   "id": "f0eee106-d831-4408-b584-fbfe152054a0",
   "metadata": {},
   "outputs": [
    {
     "name": "stdout",
     "output_type": "stream",
     "text": [
      "['hello', 'world']\n"
     ]
    }
   ],
   "source": [
    "#1 \n",
    "string_values = [item for item in x if isinstance(item,str)]\n",
    "print(string_values)"
   ]
  },
  {
   "cell_type": "code",
   "execution_count": 20,
   "id": "95510e3c-84ca-438f-9230-40f0bc67a108",
   "metadata": {},
   "outputs": [
    {
     "data": {
      "text/plain": [
       "['PRANALI', 'AMRUTA', 'SNEHA', 'DNYANESHWARI', 'PRANALI']"
      ]
     },
     "execution_count": 20,
     "metadata": {},
     "output_type": "execute_result"
    }
   ],
   "source": [
    "#2\n",
    "l = ['pranali','amruta','sneha','dnyaneshwari','pranali']\n",
    "l\n",
    "[n.upper()for n in l]"
   ]
  },
  {
   "cell_type": "code",
   "execution_count": 22,
   "id": "5730f0bb-1155-4148-bd8f-fe130daf7fc8",
   "metadata": {},
   "outputs": [
    {
     "name": "stdout",
     "output_type": "stream",
     "text": [
      "sum of interger value in the list 192\n"
     ]
    }
   ],
   "source": [
    "#3\n",
    "x=[45,67,12,'hello',23,45,'world']\n",
    "sum = 0\n",
    "\n",
    "for i in x:\n",
    "    if isinstance(i,int):\n",
    "        sum += i\n",
    "\n",
    "print('sum of interger value in the list',sum)"
   ]
  },
  {
   "cell_type": "code",
   "execution_count": 23,
   "id": "d1a5abe0-8691-4bc6-b1ae-0164f7071282",
   "metadata": {},
   "outputs": [
    {
     "data": {
      "text/plain": [
       "False"
      ]
     },
     "execution_count": 23,
     "metadata": {},
     "output_type": "execute_result"
    }
   ],
   "source": [
    "#4.\n",
    "56 in x"
   ]
  },
  {
   "cell_type": "code",
   "execution_count": 24,
   "id": "c3a1903c-cc38-4503-bf6f-c8c755927444",
   "metadata": {},
   "outputs": [
    {
     "data": {
      "text/plain": [
       "[45, 67, 12, 'hello', 23, 45, 'world']"
      ]
     },
     "execution_count": 24,
     "metadata": {},
     "output_type": "execute_result"
    }
   ],
   "source": [
    "#5\n",
    "x"
   ]
  },
  {
   "cell_type": "code",
   "execution_count": 25,
   "id": "2cd36188-48f7-4f8f-a780-fec6cbc388f0",
   "metadata": {},
   "outputs": [],
   "source": [
    "x.reverse()"
   ]
  },
  {
   "cell_type": "code",
   "execution_count": 26,
   "id": "7e0bccf5-f5b8-42fc-954a-c0a8f3b74e40",
   "metadata": {},
   "outputs": [
    {
     "data": {
      "text/plain": [
       "['world', 45, 23, 'hello', 12, 67, 45]"
      ]
     },
     "execution_count": 26,
     "metadata": {},
     "output_type": "execute_result"
    }
   ],
   "source": [
    "x"
   ]
  },
  {
   "cell_type": "code",
   "execution_count": 27,
   "id": "e311f243-ba6f-4a00-ba45-5a3b071ebbaa",
   "metadata": {},
   "outputs": [],
   "source": [
    "#6\n",
    "x.remove('hello')"
   ]
  },
  {
   "cell_type": "code",
   "execution_count": 28,
   "id": "f2626627-1dca-460a-bce3-e9f5ab11f4fa",
   "metadata": {},
   "outputs": [
    {
     "data": {
      "text/plain": [
       "['world', 45, 23, 12, 67, 45]"
      ]
     },
     "execution_count": 28,
     "metadata": {},
     "output_type": "execute_result"
    }
   ],
   "source": [
    "x"
   ]
  },
  {
   "cell_type": "code",
   "execution_count": 29,
   "id": "afed2c12-e0d7-4658-a21f-f52e139e3ec3",
   "metadata": {},
   "outputs": [],
   "source": [
    "#7\n",
    "x.insert(5,36)"
   ]
  },
  {
   "cell_type": "code",
   "execution_count": 30,
   "id": "33dced29-d6ad-4960-a2f5-e4844770baec",
   "metadata": {},
   "outputs": [
    {
     "data": {
      "text/plain": [
       "['world', 45, 23, 12, 67, 36, 45]"
      ]
     },
     "execution_count": 30,
     "metadata": {},
     "output_type": "execute_result"
    }
   ],
   "source": [
    "x"
   ]
  },
  {
   "cell_type": "code",
   "execution_count": 31,
   "id": "59439fdc-da03-4520-ba52-1b6969c2ed03",
   "metadata": {},
   "outputs": [
    {
     "data": {
      "text/plain": [
       "7"
      ]
     },
     "execution_count": 31,
     "metadata": {},
     "output_type": "execute_result"
    }
   ],
   "source": [
    "len(x)"
   ]
  },
  {
   "cell_type": "code",
   "execution_count": 32,
   "id": "5624903e-0ce8-43b8-9839-00c87bc01c2f",
   "metadata": {},
   "outputs": [
    {
     "data": {
      "text/plain": [
       "[23, 12, 67, 36]"
      ]
     },
     "execution_count": 32,
     "metadata": {},
     "output_type": "execute_result"
    }
   ],
   "source": [
    "#9\n",
    "x[2:6]"
   ]
  },
  {
   "cell_type": "code",
   "execution_count": 33,
   "id": "c55a1246-c764-437c-a42f-b63897aa5c83",
   "metadata": {},
   "outputs": [],
   "source": [
    "#10\n",
    "x.append([36,'pune'])"
   ]
  },
  {
   "cell_type": "code",
   "execution_count": 34,
   "id": "3fe62301-787e-413e-8015-c2f048910ef5",
   "metadata": {},
   "outputs": [
    {
     "data": {
      "text/plain": [
       "['world', 45, 23, 12, 67, 36, 45, [36, 'pune']]"
      ]
     },
     "execution_count": 34,
     "metadata": {},
     "output_type": "execute_result"
    }
   ],
   "source": [
    "x"
   ]
  },
  {
   "cell_type": "code",
   "execution_count": 35,
   "id": "1794cb88-e6c2-43ef-a5df-d4bdf4670f82",
   "metadata": {},
   "outputs": [
    {
     "data": {
      "text/plain": [
       "['world', 45, 23, 12, 67, 36, 45, [36, 'pune']]"
      ]
     },
     "execution_count": 35,
     "metadata": {},
     "output_type": "execute_result"
    }
   ],
   "source": [
    "#11\n",
    "x"
   ]
  },
  {
   "cell_type": "code",
   "execution_count": 36,
   "id": "11736a7b-6bd7-48fc-a618-7b09d8fe21ee",
   "metadata": {},
   "outputs": [
    {
     "data": {
      "text/plain": [
       "[36, 'pune']"
      ]
     },
     "execution_count": 36,
     "metadata": {},
     "output_type": "execute_result"
    }
   ],
   "source": [
    "x.pop()"
   ]
  },
  {
   "cell_type": "code",
   "execution_count": null,
   "id": "660e84bc-3d1b-462c-a929-adab07bd2c9b",
   "metadata": {},
   "outputs": [],
   "source": []
  }
 ],
 "metadata": {
  "kernelspec": {
   "display_name": "Python 3 (ipykernel)",
   "language": "python",
   "name": "python3"
  },
  "language_info": {
   "codemirror_mode": {
    "name": "ipython",
    "version": 3
   },
   "file_extension": ".py",
   "mimetype": "text/x-python",
   "name": "python",
   "nbconvert_exporter": "python",
   "pygments_lexer": "ipython3",
   "version": "3.11.7"
  }
 },
 "nbformat": 4,
 "nbformat_minor": 5
}
