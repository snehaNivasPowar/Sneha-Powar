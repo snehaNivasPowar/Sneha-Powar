{
 "cells": [
  {
   "cell_type": "code",
   "execution_count": 1,
   "id": "98670850-9f1a-4941-9873-a8f0ce9cd4d3",
   "metadata": {},
   "outputs": [
    {
     "name": "stdout",
     "output_type": "stream",
     "text": [
      "create the file first\n"
     ]
    }
   ],
   "source": [
    "try:\n",
    "    f = open('txt4.txt','r')\n",
    "except Exception:\n",
    "    print('create the file first')"
   ]
  },
  {
   "cell_type": "code",
   "execution_count": 7,
   "id": "efe69663-be5c-47fa-8785-0bbc3cfd95e4",
   "metadata": {},
   "outputs": [
    {
     "ename": "NameError",
     "evalue": "name 'var1' is not defined",
     "output_type": "error",
     "traceback": [
      "\u001b[1;31m---------------------------------------------------------------------------\u001b[0m",
      "\u001b[1;31mNameError\u001b[0m                                 Traceback (most recent call last)",
      "Cell \u001b[1;32mIn[7], line 3\u001b[0m\n\u001b[0;32m      1\u001b[0m \u001b[38;5;28;01mtry\u001b[39;00m:\n\u001b[0;32m      2\u001b[0m     f \u001b[38;5;241m=\u001b[39m \u001b[38;5;28mopen\u001b[39m(\u001b[38;5;124m'\u001b[39m\u001b[38;5;124mtxt1.txt\u001b[39m\u001b[38;5;124m'\u001b[39m,\u001b[38;5;124m'\u001b[39m\u001b[38;5;124mr\u001b[39m\u001b[38;5;124m'\u001b[39m)\n\u001b[1;32m----> 3\u001b[0m     var \u001b[38;5;241m=\u001b[39m var1\n\u001b[0;32m      4\u001b[0m \u001b[38;5;28;01mexcept\u001b[39;00m \u001b[38;5;167;01mFileNotFoundError\u001b[39;00m:\n\u001b[0;32m      5\u001b[0m     \u001b[38;5;28mprint\u001b[39m(\u001b[38;5;124m'\u001b[39m\u001b[38;5;124mcreate the file first\u001b[39m\u001b[38;5;124m'\u001b[39m)\n",
      "\u001b[1;31mNameError\u001b[0m: name 'var1' is not defined"
     ]
    }
   ],
   "source": [
    "try:\n",
    "    f = open('txt1.txt','r')\n",
    "    var = var1\n",
    "except FileNotFoundError:\n",
    "    print('create the file first')"
   ]
  },
  {
   "cell_type": "code",
   "execution_count": 8,
   "id": "7b9b3c39-1313-4d29-9ac6-c7c163f24b1d",
   "metadata": {},
   "outputs": [
    {
     "name": "stdout",
     "output_type": "stream",
     "text": [
      "define it first\n"
     ]
    }
   ],
   "source": [
    "try:\n",
    "    f = open('txt1.txt','r')\n",
    "    var = var1\n",
    "except FileNotFoundError:\n",
    "    print('create the file first')\n",
    "\n",
    "except NameError:\n",
    "    print('define it first')"
   ]
  },
  {
   "cell_type": "code",
   "execution_count": 9,
   "id": "f6918781-fe60-4710-a26c-29b6500795de",
   "metadata": {},
   "outputs": [
    {
     "name": "stdout",
     "output_type": "stream",
     "text": [
      "name 'var1' is not defined\n"
     ]
    }
   ],
   "source": [
    "try:\n",
    "    f = open('txt1.txt','r')\n",
    "    var = var1\n",
    "except FileNotFoundError:\n",
    "    print('create the file first')\n",
    "\n",
    "except Exception as e:\n",
    "    print(e)"
   ]
  },
  {
   "cell_type": "code",
   "execution_count": 10,
   "id": "a472d164-fc12-4e1d-975d-7c30297c56ee",
   "metadata": {},
   "outputs": [
    {
     "name": "stdout",
     "output_type": "stream",
     "text": [
      "this is first line\n",
      "this is second line\n",
      "this is third line\n",
      "this is fourth line\n"
     ]
    }
   ],
   "source": [
    "try:\n",
    "    f = open('txt1.txt','r')\n",
    "except FileNotFoundError:\n",
    "    print('create the file first')\n",
    "\n",
    "else:\n",
    "    print(f.read())\n",
    "    f.close()"
   ]
  },
  {
   "cell_type": "code",
   "execution_count": 11,
   "id": "60af2565-e49f-45f7-b0b1-36cb7b1786d6",
   "metadata": {},
   "outputs": [
    {
     "name": "stdout",
     "output_type": "stream",
     "text": [
      "this is first line\n",
      "this is second line\n",
      "this is third line\n",
      "this is fourth line\n",
      "ok\n"
     ]
    }
   ],
   "source": [
    "try:\n",
    "    f = open('txt1.txt','r')\n",
    "except FileNotFoundError:\n",
    "    print('create the file first')\n",
    "\n",
    "else:\n",
    "    print(f.read())\n",
    "    f.close()\n",
    "\n",
    "finally:\n",
    "    print('ok')"
   ]
  },
  {
   "cell_type": "code",
   "execution_count": 12,
   "id": "b2fbec1f-a118-4088-8d07-f89e43ed34e1",
   "metadata": {},
   "outputs": [
    {
     "name": "stdout",
     "output_type": "stream",
     "text": [
      "create the file first\n",
      "ok\n"
     ]
    }
   ],
   "source": [
    "try:\n",
    "    f = open('txt4.txt','r')\n",
    "except FileNotFoundError:\n",
    "    print('create the file first')\n",
    "\n",
    "else:\n",
    "    print(f.read())\n",
    "    f.close()\n",
    "\n",
    "finally:\n",
    "    print('ok')"
   ]
  },
  {
   "cell_type": "code",
   "execution_count": null,
   "id": "d8e7a305-ef98-42e6-9d5f-81550282eadf",
   "metadata": {},
   "outputs": [],
   "source": []
  }
 ],
 "metadata": {
  "kernelspec": {
   "display_name": "Python 3 (ipykernel)",
   "language": "python",
   "name": "python3"
  },
  "language_info": {
   "codemirror_mode": {
    "name": "ipython",
    "version": 3
   },
   "file_extension": ".py",
   "mimetype": "text/x-python",
   "name": "python",
   "nbconvert_exporter": "python",
   "pygments_lexer": "ipython3",
   "version": "3.11.7"
  }
 },
 "nbformat": 4,
 "nbformat_minor": 5
}
