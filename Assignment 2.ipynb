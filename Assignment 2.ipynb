{
 "cells": [
  {
   "cell_type": "code",
   "execution_count": 12,
   "id": "00a4a74d-740b-4906-99d0-fa347fea2f61",
   "metadata": {},
   "outputs": [],
   "source": [
    "# Q1. Create a package named 'cricket' which will contain modules  named batsman and bowler.\n",
    "#Create following function in respective modules.import the package and call all these functions in your program\n",
    "#batsman: findaverage(runs,matches),strikerate(runs,balls) \n",
    "#bowler: findavg(runs,wickets),economyrate(overs, runs)\n",
    "\n",
    "from cricket import batsman, baller\n",
    "\n",
    "def main():\n",
    "    # Batsman stats\n",
    "    runs_batsman = int(input(\"Enter the runs:\"))\n",
    "    matches_batsman = int(input(\"Enter the matches:\"))\n",
    "    balls_faced = int(input(\"Enter the Total balls:\"))\n",
    "    \n",
    "    # Bowler stats\n",
    "    runs_baller = int(input(\"Enter the runs baller:\"))\n",
    "    wickets_taken = int(input(\"Enter the wicket:\"))\n",
    "    overs_balled = int(input(\"Enter the overs:\"))\n",
    "\n",
    "    # Batsman calculations\n",
    "    avg_batsman = batsman.findaverage(runs_batsman, matches_batsman)\n",
    "    sr_batsman = batsman.strikerate(runs_batsman, balls_faced)\n",
    "\n",
    "    # Bowler calculations\n",
    "    avg_baller = baller.findavg(runs_baller, wickets_taken)\n",
    "    economy_baller = baller.economyrate(overs_balled, runs_baller)\n",
    "\n",
    "    # Print results\n",
    "    print(f\"Batsman's average:\",avg_batsman)\n",
    "    print(f\"Batsman's strike rate:\",sr_batsman)\n",
    "    print(f\"Bowler's average:\",avg_baller)\n",
    "    print(f\"Bowler's economy rate:\",economy_baller)"
   ]
  },
  {
   "cell_type": "code",
   "execution_count": 13,
   "id": "2be41e65-e4bb-4bbe-b8b6-83ae834c6343",
   "metadata": {},
   "outputs": [
    {
     "name": "stdin",
     "output_type": "stream",
     "text": [
      "Enter the runs: 45\n",
      "Enter the matches: 3\n",
      "Enter the Total balls: 23\n",
      "Enter the runs baller: 32\n",
      "Enter the wicket: 3\n",
      "Enter the overs: 4\n"
     ]
    },
    {
     "name": "stdout",
     "output_type": "stream",
     "text": [
      "Batsman's average: 15.0\n",
      "Batsman's strike rate: 195.65217391304347\n",
      "Bowler's average: 10.666666666666666\n",
      "Bowler's economy rate: 8.0\n"
     ]
    }
   ],
   "source": [
    "main()"
   ]
  },
  {
   "cell_type": "code",
   "execution_count": 12,
   "id": "b7f5b1cf-abef-4351-971b-548efe4f2041",
   "metadata": {},
   "outputs": [],
   "source": [
    "# Q2. Write a python function to find whether the number if prime or not\n",
    "\n",
    "def Prime(num):\n",
    "    # If num is less than or equal to 1, it's not prime\n",
    "    if num <= 1:\n",
    "        return 'not prime'\n",
    "    \n",
    " \n",
    "    for i in range(2, int(num**0.5) + 1):\n",
    "        if num % i == 0:\n",
    "            return 'not prime'\n",
    "    \n",
    "    return ' prime'"
   ]
  },
  {
   "cell_type": "code",
   "execution_count": 13,
   "id": "2805d478-bbec-45ef-8f93-949649aa8c04",
   "metadata": {},
   "outputs": [
    {
     "data": {
      "text/plain": [
       "' prime'"
      ]
     },
     "execution_count": 13,
     "metadata": {},
     "output_type": "execute_result"
    }
   ],
   "source": [
    "Prime(2)"
   ]
  },
  {
   "cell_type": "code",
   "execution_count": 20,
   "id": "690dc19b-e26e-414f-92bd-11cf7aaa6dc9",
   "metadata": {},
   "outputs": [],
   "source": [
    "# Q3. Write a function is_palindome(string) the takes a string as input and returns\n",
    "# True if the string reads the same backward as forward(eg.. 'racecar' is a palindrome).\n",
    "\n",
    "def is_palinrome(string):\n",
    "    if(string == string[::-1]):\n",
    "        return 'The string is a palindrome'\n",
    "    else:\n",
    "        return 'This is not  palindrome'"
   ]
  },
  {
   "cell_type": "code",
   "execution_count": 22,
   "id": "109f7319-2cd4-4130-86fd-a4db74a3ab2a",
   "metadata": {},
   "outputs": [
    {
     "data": {
      "text/plain": [
       "'This is not  palindrome'"
      ]
     },
     "execution_count": 22,
     "metadata": {},
     "output_type": "execute_result"
    }
   ],
   "source": [
    "is_palinrome('day')"
   ]
  },
  {
   "cell_type": "code",
   "execution_count": 1,
   "id": "5f9c5689-8edf-4db2-a51d-0d902ec0df6f",
   "metadata": {},
   "outputs": [],
   "source": [
    "\n",
    "# Q4. Write a function reverse_list(data) that takes a list as list as input and returns a new list\n",
    "#  with the elements in reverse order(eg.. reverse_list([1, 2, 3]) returns[3, 2, 1])\n",
    "\n",
    "\n",
    "def reverse_list(data):\n",
    "    return data[::-1]\n",
    "    reverse_list(original_list)\n",
    "    print('original list', original_list)\n",
    "    print(' reverse list', reverse_list)"
   ]
  },
  {
   "cell_type": "code",
   "execution_count": 2,
   "id": "39076364-6a23-43ad-be7b-ccde73defdd2",
   "metadata": {},
   "outputs": [
    {
     "data": {
      "text/plain": [
       "[4, 3, 2, 1]"
      ]
     },
     "execution_count": 2,
     "metadata": {},
     "output_type": "execute_result"
    }
   ],
   "source": [
    "reverse_list([1,2,3,4])"
   ]
  },
  {
   "cell_type": "code",
   "execution_count": 3,
   "id": "83272cd6-a5d9-4031-bf98-4f1020116b29",
   "metadata": {},
   "outputs": [],
   "source": [
    "# Q5. Write a function write_file(filename, content) that takes a filename and\n",
    "#  content as input and writes the content to the specified file\n",
    "\n",
    "\n",
    "def write_file(filename, content):\n",
    "    filename = str(input('Enter the file name'))\n",
    "    content = str(input('Enter the file content'))\n",
    "    with open(filename, 'w') as file:\n",
    "        file.write(content)"
   ]
  },
  {
   "cell_type": "code",
   "execution_count": 4,
   "id": "53293649-ddea-4da4-8621-81d19c51ca37",
   "metadata": {},
   "outputs": [
    {
     "name": "stdin",
     "output_type": "stream",
     "text": [
      "Enter the file name test\n",
      "Enter the file content we are best friends!!\n"
     ]
    }
   ],
   "source": [
    "write_file('example.text', 'This  is the content of file')"
   ]
  },
  {
   "cell_type": "code",
   "execution_count": 6,
   "id": "e7bf9ced-543b-4a0c-9ccc-528c1db98b13",
   "metadata": {},
   "outputs": [],
   "source": [
    "# Q6. Write a function copy_file(source_filename, destination_filename) that\n",
    "# takes the source and destination filenames as input and copies the content of the source\n",
    "# file to the destination file. Handle cases where the source file doesn't exist\n",
    "\n",
    "def copy_file(source_filename, destination_filename):\n",
    "   \n",
    "   try:\n",
    "       with open(source_filename, 'r') as source_file:\n",
    "           content = source_file.read()\n",
    "           with open(destination_filename, 'w') as destination_file:\n",
    "               destination_file.write(content)\n",
    "               print('file content copied from source_filename to destination_filename ')\n",
    "   except FileNotFoundError:\n",
    "       print('The  source file does not exist')\n",
    "   except Exception as e:\n",
    "       print('An error occurre',e)"
   ]
  },
  {
   "cell_type": "code",
   "execution_count": 7,
   "id": "f7be6832-d155-480a-bda9-fa3367744519",
   "metadata": {},
   "outputs": [
    {
     "name": "stdout",
     "output_type": "stream",
     "text": [
      "file content copied from source_filename to destination_filename \n"
     ]
    }
   ],
   "source": [
    "copy_file('demo.txt','destination.txt' )"
   ]
  },
  {
   "cell_type": "code",
   "execution_count": 5,
   "id": "2891258c-8c0f-452b-bc6b-18889d6c8dd5",
   "metadata": {},
   "outputs": [],
   "source": [
    "# Q7. Implement a function to calculate the dot product of two NumPy arrays.\n",
    "\n",
    "import numpy as np\n"
   ]
  },
  {
   "cell_type": "code",
   "execution_count": 6,
   "id": "6c39017f-0fee-48e1-b098-f59ce42baa27",
   "metadata": {},
   "outputs": [],
   "source": [
    "def calculate_dot_product(array1, array2):\n",
    "    return np.dot(array1, array2)\n",
    "    result = calculate_dot_product(array1, array2)\n",
    "    print('Dot product:', result)"
   ]
  },
  {
   "cell_type": "code",
   "execution_count": 8,
   "id": "357c28bb-9132-490a-b131-14cc598ccd04",
   "metadata": {},
   "outputs": [
    {
     "data": {
      "text/plain": [
       "63"
      ]
     },
     "execution_count": 8,
     "metadata": {},
     "output_type": "execute_result"
    }
   ],
   "source": [
    "calculate_dot_product(([2+5]),([1+8]))"
   ]
  },
  {
   "cell_type": "code",
   "execution_count": 14,
   "id": "a2b92863-2c76-4ebd-b173-966bee0a148b",
   "metadata": {},
   "outputs": [],
   "source": [
    "# Q8. Implements a GUI with a radio button selection for choosing a favorite color\n",
    "# (eg.. red, green, blue). Change the background color of the window based on the selected radio button\n",
    "\n",
    "import tkinter as tk"
   ]
  },
  {
   "cell_type": "code",
   "execution_count": 67,
   "id": "46e1b2d7-8d69-4d70-98ca-dd9bc9bdcaed",
   "metadata": {},
   "outputs": [],
   "source": [
    "\n",
    "def change_color():\n",
    "\n",
    "    choose_color = color_var.get()\n",
    "    \n",
    "    if choose_color == \"Red\":\n",
    "        top.configure(bg=\"red\")\n",
    "    elif choose_color == \"Green\":\n",
    "        top.configure(bg=\"green\")\n",
    "    elif choose_color == \"Black\":\n",
    "        top.configure(bg=\"black\")\n",
    "\n",
    "top = tk.Tk()\n",
    "top.title(\"Radio button\")\n",
    "\n",
    "color_var = tk.StringVar()\n",
    "\n",
    "\n",
    "red_radio = tk.Radiobutton(top, text=\"Red\", variable=color_var, value=\"Red\", command=change_color)\n",
    "red_radio.pack(anchor=tk.CENTER)\n",
    "\n",
    "green_radio = tk.Radiobutton(top, text=\"Green\", variable=color_var, value=\"Green\", command=change_color)\n",
    "green_radio.pack(anchor=tk.CENTER)\n",
    "\n",
    "black_radio = tk.Radiobutton(top, text=\"Black\", variable=color_var, value=\"Black\", command=change_color)\n",
    "black_radio.pack(anchor=tk.CENTER)\n",
    "                \n",
    "top.mainloop()\n"
   ]
  },
  {
   "cell_type": "code",
   "execution_count": 66,
   "id": "f9c85e3b-19a5-4168-b82e-487749f8b3a5",
   "metadata": {},
   "outputs": [],
   "source": [
    "# Q9. design a currency converter GUI. Allow users to enter an amount and select the \n",
    "# currencies they want to convert between(eg.. USD, EUR). Display the converted\n",
    "# amount in the selected currency.\n",
    "\n",
    "import tkinter as tk\n",
    "from tkinter import ttk\n",
    "\n",
    "\n",
    "conversion_rates = {\n",
    "    'Rupees': {'Rupees': 1.0, 'doller': 85.56, 'EUR': 0.75},\n",
    "    'EUR': {'Rupees': 1.18, 'EUR': 1.0, 'dolller': 0.88},\n",
    "    'Doller': {'Ruppes': 1.33, 'EUR': 1.14, 'doller': 1.0},\n",
    "}\n",
    "\n",
    "\n",
    "root = tk.Tk()\n",
    "root.title(\"Currency Converter\")\n",
    "\n",
    "\n",
    "\n",
    "\n",
    "def convert_currency():\n",
    "    try:\n",
    "        amount = float(amount_entry.get())\n",
    "        from_currency = from_currency_var.get()\n",
    "        to_currency = to_currency_var.get()\n",
    "\n",
    "        if from_currency == to_currency:\n",
    "            converted_amount = amount\n",
    "        else:\n",
    "            conversion_rate = conversion_rates[from_currency][to_currency]\n",
    "            converted_amount = amount * conversion_rate\n",
    "\n",
    "        result_label.config(text=f\"Converted Amount: {converted_amount:} {to_currency}\")\n",
    "    except ValueError:\n",
    "        result_label.config(text=\"Please enter a valid number\")\n",
    "\n",
    "# Create labels\n",
    "amount_label = ttk.Label(root, text=\"Enter Amount:\")\n",
    "amount_label.place(x=300,y=150)\n",
    "\n",
    "result_label = ttk.Label(root, text=\"\")\n",
    "result_label.place(x=300,y=500)\n",
    "\n",
    "\n",
    "# Create entry for amount\n",
    "amount_entry = ttk.Entry(root, width=20)\n",
    "amount_entry.place(x=400,y=150)\n",
    "\n",
    "# Create dropdowns for selecting currencies\n",
    "currencies = ['Rupees', 'EUR', 'Doller']  \n",
    "from_currency_var = tk.StringVar()\n",
    "to_currency_var = tk.StringVar()\n",
    "\n",
    "from_currency_label = ttk.Label(root, text=\"From Currency:\")\n",
    "from_currency_label.place(x=300,y=200)\n",
    "\n",
    "from_currency_dropdown = ttk.Combobox(root, textvariable=from_currency_var, values=currencies)\n",
    "from_currency_dropdown.place(x=400,y=200)\n",
    "from_currency_dropdown.current(0)  # Set default value\n",
    "\n",
    "to_currency_label = ttk.Label(root, text=\"To Currency:\")\n",
    "to_currency_label.place(x=300,y=300)\n",
    "\n",
    "to_currency_dropdown = ttk.Combobox(root, textvariable=to_currency_var, values=currencies)\n",
    "to_currency_dropdown.place(x=400,y=300)\n",
    "to_currency_dropdown.current(1)  \n",
    "\n",
    "# Create convert button\n",
    "convert_button = ttk.Button(root, text=\"Convert\", command=convert_currency)\n",
    "convert_button.place(x=430,y=400)\n",
    "\n",
    "\n",
    "root.mainloop()\n",
    "\n"
   ]
  },
  {
   "cell_type": "code",
   "execution_count": null,
   "id": "e837e0aa-b815-4f75-983b-083a8935b1e2",
   "metadata": {},
   "outputs": [],
   "source": []
  }
 ],
 "metadata": {
  "kernelspec": {
   "display_name": "Python 3 (ipykernel)",
   "language": "python",
   "name": "python3"
  },
  "language_info": {
   "codemirror_mode": {
    "name": "ipython",
    "version": 3
   },
   "file_extension": ".py",
   "mimetype": "text/x-python",
   "name": "python",
   "nbconvert_exporter": "python",
   "pygments_lexer": "ipython3",
   "version": "3.11.7"
  }
 },
 "nbformat": 4,
 "nbformat_minor": 5
}
