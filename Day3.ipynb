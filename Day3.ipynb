{
 "cells": [
  {
   "cell_type": "code",
   "execution_count": 11,
   "id": "f253e0d2-8b18-48e8-908f-104746f4d60b",
   "metadata": {},
   "outputs": [
    {
     "name": "stdout",
     "output_type": "stream",
     "text": [
      "[12, 45, 78, 90, 87, 65]\n"
     ]
    }
   ],
   "source": [
    "# list\n",
    "l = [12,45,78,90,87,65]\n",
    "print(l)#duplicats allowed\n"
   ]
  },
  {
   "cell_type": "code",
   "execution_count": 7,
   "id": "9ade3f10-4c9c-4093-8c42-ebc7b2bc2472",
   "metadata": {},
   "outputs": [
    {
     "data": {
      "text/plain": [
       "list"
      ]
     },
     "execution_count": 7,
     "metadata": {},
     "output_type": "execute_result"
    }
   ],
   "source": [
    "type(l)\n"
   ]
  },
  {
   "cell_type": "code",
   "execution_count": 12,
   "id": "7524181c-f4f4-4bb3-8993-44bff0df25b1",
   "metadata": {},
   "outputs": [
    {
     "data": {
      "text/plain": [
       "78"
      ]
     },
     "execution_count": 12,
     "metadata": {},
     "output_type": "execute_result"
    }
   ],
   "source": [
    "#access the data\n",
    "l[2]#ordered"
   ]
  },
  {
   "cell_type": "code",
   "execution_count": 13,
   "id": "2275f7e0-05c8-4c2d-8f60-c21d4d44d359",
   "metadata": {},
   "outputs": [
    {
     "data": {
      "text/plain": [
       "87"
      ]
     },
     "execution_count": 13,
     "metadata": {},
     "output_type": "execute_result"
    }
   ],
   "source": [
    "l[-2]"
   ]
  },
  {
   "cell_type": "code",
   "execution_count": 14,
   "id": "c5fcbc1f-36c3-4a7e-98af-5be5a521f70f",
   "metadata": {},
   "outputs": [
    {
     "name": "stdout",
     "output_type": "stream",
     "text": [
      "[12, 45, 78, 90, 87, 65, 'sneha', 89.56]\n"
     ]
    }
   ],
   "source": [
    "l1 = [12,45,78,90,87,65,'sneha',89.56]\n",
    "print(l1)"
   ]
  },
  {
   "cell_type": "code",
   "execution_count": 16,
   "id": "c396fff6-1309-4af4-b48c-f057fd956de3",
   "metadata": {},
   "outputs": [
    {
     "data": {
      "text/plain": [
       "[12, 45, 89, 90, 87, 65]"
      ]
     },
     "execution_count": 16,
     "metadata": {},
     "output_type": "execute_result"
    }
   ],
   "source": [
    "#replace the data\n",
    "l[2] = 89\n",
    "l"
   ]
  },
  {
   "cell_type": "code",
   "execution_count": 17,
   "id": "2eb7bd72-0e24-4b80-bbb0-29f7f31754c3",
   "metadata": {},
   "outputs": [
    {
     "data": {
      "text/plain": [
       "[45, 89, 90]"
      ]
     },
     "execution_count": 17,
     "metadata": {},
     "output_type": "execute_result"
    }
   ],
   "source": [
    "#slicing\n",
    "l[1:4]"
   ]
  },
  {
   "cell_type": "code",
   "execution_count": 19,
   "id": "10a42ecb-c47c-41c2-a59b-565b7537b362",
   "metadata": {},
   "outputs": [
    {
     "data": {
      "text/plain": [
       "[12, 45, 89, 90]"
      ]
     },
     "execution_count": 19,
     "metadata": {},
     "output_type": "execute_result"
    }
   ],
   "source": [
    "l[0:4]"
   ]
  },
  {
   "cell_type": "code",
   "execution_count": 21,
   "id": "ef5a98bd-7f99-4b0e-b6d3-755f3fa6da18",
   "metadata": {},
   "outputs": [
    {
     "data": {
      "text/plain": [
       "[45, 89, 90, 87]"
      ]
     },
     "execution_count": 21,
     "metadata": {},
     "output_type": "execute_result"
    }
   ],
   "source": [
    "l[1:5]"
   ]
  },
  {
   "cell_type": "code",
   "execution_count": 22,
   "id": "9ad85336-bc35-44fc-a748-2296204ab7d6",
   "metadata": {},
   "outputs": [
    {
     "data": {
      "text/plain": [
       "[12, 45, 89, 90, 87, 65]"
      ]
     },
     "execution_count": 22,
     "metadata": {},
     "output_type": "execute_result"
    }
   ],
   "source": [
    "l[:]"
   ]
  },
  {
   "cell_type": "code",
   "execution_count": 23,
   "id": "992f858c-48b1-4e9b-ab4e-e624691ab745",
   "metadata": {},
   "outputs": [
    {
     "data": {
      "text/plain": [
       "[12, 89, 87]"
      ]
     },
     "execution_count": 23,
     "metadata": {},
     "output_type": "execute_result"
    }
   ],
   "source": [
    "l[0:-1:2]"
   ]
  },
  {
   "cell_type": "code",
   "execution_count": 24,
   "id": "45d2de8e-0e8d-418d-a54a-e6d5f3001a6e",
   "metadata": {},
   "outputs": [],
   "source": [
    "l[1:4] = [34,32,11]"
   ]
  },
  {
   "cell_type": "code",
   "execution_count": 25,
   "id": "62db95df-8943-466d-913c-ff86faa934a0",
   "metadata": {},
   "outputs": [
    {
     "data": {
      "text/plain": [
       "[12, 34, 32, 11, 87, 65]"
      ]
     },
     "execution_count": 25,
     "metadata": {},
     "output_type": "execute_result"
    }
   ],
   "source": [
    "l"
   ]
  },
  {
   "cell_type": "code",
   "execution_count": 30,
   "id": "955ae6ed-effb-4167-8dd8-f2e6ebd9a78f",
   "metadata": {},
   "outputs": [],
   "source": [
    "l[1::2] = [22,66,88]"
   ]
  },
  {
   "cell_type": "code",
   "execution_count": 31,
   "id": "38bd8dec-e5fb-4120-b3d8-4fd247fec8ce",
   "metadata": {},
   "outputs": [
    {
     "data": {
      "text/plain": [
       "[12, 22, 32, 66, 87, 88]"
      ]
     },
     "execution_count": 31,
     "metadata": {},
     "output_type": "execute_result"
    }
   ],
   "source": [
    "l"
   ]
  },
  {
   "cell_type": "code",
   "execution_count": 33,
   "id": "dfa33776-1ae5-42de-9b8b-4104bbbf1cec",
   "metadata": {},
   "outputs": [
    {
     "name": "stdout",
     "output_type": "stream",
     "text": [
      "[23, 45, 67, 88]\n"
     ]
    }
   ],
   "source": [
    "#delete\n",
    "\n",
    "l1 = [23,45,67,88]\n",
    "print(l1)\n"
   ]
  },
  {
   "cell_type": "code",
   "execution_count": 35,
   "id": "1674b027-3b9a-493a-9601-73f81528a736",
   "metadata": {},
   "outputs": [
    {
     "ename": "NameError",
     "evalue": "name 'l1' is not defined",
     "output_type": "error",
     "traceback": [
      "\u001b[1;31m---------------------------------------------------------------------------\u001b[0m",
      "\u001b[1;31mNameError\u001b[0m                                 Traceback (most recent call last)",
      "Cell \u001b[1;32mIn[35], line 1\u001b[0m\n\u001b[1;32m----> 1\u001b[0m \u001b[38;5;28;01mdel\u001b[39;00m l1\n",
      "\u001b[1;31mNameError\u001b[0m: name 'l1' is not defined"
     ]
    }
   ],
   "source": [
    "del l1"
   ]
  },
  {
   "cell_type": "code",
   "execution_count": 36,
   "id": "2a1802bc-c65f-44cf-ace0-6651626f343d",
   "metadata": {},
   "outputs": [
    {
     "data": {
      "text/plain": [
       "[12, 22, 32, 66, 87, 88]"
      ]
     },
     "execution_count": 36,
     "metadata": {},
     "output_type": "execute_result"
    }
   ],
   "source": [
    "l"
   ]
  },
  {
   "cell_type": "code",
   "execution_count": 37,
   "id": "03a41601-3ce4-4e32-a053-3f73aadabad1",
   "metadata": {},
   "outputs": [
    {
     "data": {
      "text/plain": [
       "True"
      ]
     },
     "execution_count": 37,
     "metadata": {},
     "output_type": "execute_result"
    }
   ],
   "source": [
    "# in operator\n",
    "12 in l"
   ]
  },
  {
   "cell_type": "code",
   "execution_count": 38,
   "id": "7e4ecbf4-76e4-4af3-bbb3-740a55694d0c",
   "metadata": {},
   "outputs": [
    {
     "data": {
      "text/plain": [
       "False"
      ]
     },
     "execution_count": 38,
     "metadata": {},
     "output_type": "execute_result"
    }
   ],
   "source": [
    "89 in l"
   ]
  },
  {
   "cell_type": "code",
   "execution_count": 40,
   "id": "4b4558a8-0841-44f6-95a8-146330ef86c6",
   "metadata": {},
   "outputs": [
    {
     "data": {
      "text/plain": [
       "False"
      ]
     },
     "execution_count": 40,
     "metadata": {},
     "output_type": "execute_result"
    }
   ],
   "source": [
    "12 not in l"
   ]
  },
  {
   "cell_type": "code",
   "execution_count": 41,
   "id": "de98361e-0d47-40fc-b846-32d9803cca78",
   "metadata": {},
   "outputs": [
    {
     "data": {
      "text/plain": [
       "[12, 22, 32, 66, 87, 88, 12, 22, 32, 66, 87, 88]"
      ]
     },
     "execution_count": 41,
     "metadata": {},
     "output_type": "execute_result"
    }
   ],
   "source": [
    "#arithmatic operation\n",
    "\n",
    "l* 2"
   ]
  },
  {
   "cell_type": "code",
   "execution_count": 42,
   "id": "b6164e12-2a67-44b2-9b5b-6c45478f7259",
   "metadata": {},
   "outputs": [
    {
     "data": {
      "text/plain": [
       "[12, 22, 32, 66, 87, 88, 200, 900]"
      ]
     },
     "execution_count": 42,
     "metadata": {},
     "output_type": "execute_result"
    }
   ],
   "source": [
    "l+[200,900]"
   ]
  },
  {
   "cell_type": "code",
   "execution_count": 46,
   "id": "b9be4523-bbd2-427a-8596-43383ebb864b",
   "metadata": {},
   "outputs": [],
   "source": [
    "l1 = [1,2,3,4,5]"
   ]
  },
  {
   "cell_type": "code",
   "execution_count": 45,
   "id": "64b9a7ba-c6c4-4082-bc55-809e1a0ee948",
   "metadata": {},
   "outputs": [
    {
     "data": {
      "text/plain": [
       "[12, 22, 32, 66, 87, 88]"
      ]
     },
     "execution_count": 45,
     "metadata": {},
     "output_type": "execute_result"
    }
   ],
   "source": [
    "l"
   ]
  },
  {
   "cell_type": "code",
   "execution_count": 47,
   "id": "0e434b1f-da81-46db-8da4-290bf50c53e1",
   "metadata": {},
   "outputs": [
    {
     "data": {
      "text/plain": [
       "[1, 2, 3, 4, 5, 12, 22, 32, 66, 87, 88]"
      ]
     },
     "execution_count": 47,
     "metadata": {},
     "output_type": "execute_result"
    }
   ],
   "source": [
    "l1 + l"
   ]
  },
  {
   "cell_type": "code",
   "execution_count": 50,
   "id": "6439a439-8021-47be-936e-64cf9bf2a511",
   "metadata": {},
   "outputs": [
    {
     "name": "stdout",
     "output_type": "stream",
     "text": [
      "144 484 1024 4356 7569 7744 "
     ]
    }
   ],
   "source": [
    "#iterating over a list\n",
    "\n",
    "for n in l:\n",
    "    print(n**2,end = ' ')"
   ]
  },
  {
   "cell_type": "code",
   "execution_count": 58,
   "id": "3ac688f6-7f46-448c-915b-378afd876eb5",
   "metadata": {},
   "outputs": [
    {
     "name": "stdout",
     "output_type": "stream",
     "text": [
      "87\n"
     ]
    }
   ],
   "source": [
    "#printing odd\n",
    "for n in l:\n",
    "    if n%2==1:\n",
    "        print(n)"
   ]
  },
  {
   "cell_type": "code",
   "execution_count": 59,
   "id": "564637b6-e138-4646-a43c-fe826a3126e3",
   "metadata": {},
   "outputs": [],
   "source": [
    "###list compehension\n",
    "\n",
    "#map\n",
    "li = [n/2 for n in l]"
   ]
  },
  {
   "cell_type": "code",
   "execution_count": 60,
   "id": "5f5f6194-d2c2-48d4-9cd9-19d3d5fd90e2",
   "metadata": {},
   "outputs": [
    {
     "data": {
      "text/plain": [
       "[6.0, 11.0, 16.0, 33.0, 43.5, 44.0]"
      ]
     },
     "execution_count": 60,
     "metadata": {},
     "output_type": "execute_result"
    }
   ],
   "source": [
    "li"
   ]
  },
  {
   "cell_type": "code",
   "execution_count": 61,
   "id": "d81fb0ce-6077-4261-890c-8e6ca1bdc999",
   "metadata": {},
   "outputs": [],
   "source": [
    "#square\n",
    "li1 = [n**2 for n in l]"
   ]
  },
  {
   "cell_type": "code",
   "execution_count": 62,
   "id": "606787f5-1954-4cd8-8648-50041eec9811",
   "metadata": {},
   "outputs": [
    {
     "data": {
      "text/plain": [
       "[144, 484, 1024, 4356, 7569, 7744]"
      ]
     },
     "execution_count": 62,
     "metadata": {},
     "output_type": "execute_result"
    }
   ],
   "source": [
    "li1"
   ]
  },
  {
   "cell_type": "code",
   "execution_count": 63,
   "id": "c0162466-67f8-4e3f-a8d0-73e006e54b23",
   "metadata": {},
   "outputs": [
    {
     "data": {
      "text/plain": [
       "[87]"
      ]
     },
     "execution_count": 63,
     "metadata": {},
     "output_type": "execute_result"
    }
   ],
   "source": [
    "#filter\n",
    "[n for n in l if n%2==1]"
   ]
  },
  {
   "cell_type": "code",
   "execution_count": 64,
   "id": "41d86e6f-a7b7-4441-ba3b-a824f38734fa",
   "metadata": {},
   "outputs": [
    {
     "data": {
      "text/plain": [
       "[]"
      ]
     },
     "execution_count": 64,
     "metadata": {},
     "output_type": "execute_result"
    }
   ],
   "source": [
    "[n for n in l if n%2==1]"
   ]
  },
  {
   "cell_type": "code",
   "execution_count": 79,
   "id": "69547801-f53f-4590-802f-7f36c6e73193",
   "metadata": {},
   "outputs": [
    {
     "name": "stdout",
     "output_type": "stream",
     "text": [
      "['priya', 'pranali', 'dnyaneshwari', 'amruta', 'sanika', 'sneha', 'pranali', 'sakshi']\n"
     ]
    }
   ],
   "source": [
    "names = ['priya','pranali','dnyaneshwari','amruta','sanika','sneha','pranali','sakshi']\n",
    "print(names)"
   ]
  },
  {
   "cell_type": "code",
   "execution_count": 80,
   "id": "85d1d7ef-0a57-421b-b845-3f85ad997982",
   "metadata": {},
   "outputs": [
    {
     "data": {
      "text/plain": [
       "['sanika', 'sneha', 'sakshi']"
      ]
     },
     "execution_count": 80,
     "metadata": {},
     "output_type": "execute_result"
    }
   ],
   "source": [
    "#create a new list cosisting of name starting with s\n",
    "\n",
    "[s for s in names if s.startswith('s')]"
   ]
  },
  {
   "cell_type": "code",
   "execution_count": 83,
   "id": "9bfccf92-db36-4df2-ae9e-74157970a1c4",
   "metadata": {},
   "outputs": [
    {
     "data": {
      "text/plain": [
       "['Priya',\n",
       " 'Pranali',\n",
       " 'Dnyaneshwari',\n",
       " 'Amruta',\n",
       " 'Sanika',\n",
       " 'Sneha',\n",
       " 'Pranali',\n",
       " 'Sakshi']"
      ]
     },
     "execution_count": 83,
     "metadata": {},
     "output_type": "execute_result"
    }
   ],
   "source": [
    "#creats a new list consisting of all the names in the title case\n",
    "\n",
    "[s.title() for s in names]"
   ]
  },
  {
   "cell_type": "code",
   "execution_count": 84,
   "id": "c3b49e98-ec17-4529-b713-d097a63b2776",
   "metadata": {},
   "outputs": [],
   "source": [
    "#empty list\n",
    "\n",
    "e=[]"
   ]
  },
  {
   "cell_type": "code",
   "execution_count": 85,
   "id": "d3b9a9a9-2963-4485-8a12-d8502b32aee1",
   "metadata": {},
   "outputs": [
    {
     "data": {
      "text/plain": [
       "list"
      ]
     },
     "execution_count": 85,
     "metadata": {},
     "output_type": "execute_result"
    }
   ],
   "source": [
    "type(e)"
   ]
  },
  {
   "cell_type": "code",
   "execution_count": 86,
   "id": "c0eb431b-ee78-4df9-bc61-c4462ab4dae7",
   "metadata": {},
   "outputs": [
    {
     "ename": "TypeError",
     "evalue": "'list' object is not callable",
     "output_type": "error",
     "traceback": [
      "\u001b[1;31m---------------------------------------------------------------------------\u001b[0m",
      "\u001b[1;31mTypeError\u001b[0m                                 Traceback (most recent call last)",
      "Cell \u001b[1;32mIn[86], line 1\u001b[0m\n\u001b[1;32m----> 1\u001b[0m e(\u001b[38;5;241m0\u001b[39m)\n",
      "\u001b[1;31mTypeError\u001b[0m: 'list' object is not callable"
     ]
    }
   ],
   "source": [
    "e(0)"
   ]
  },
  {
   "cell_type": "code",
   "execution_count": 87,
   "id": "53ff59eb-7e7f-403e-9b40-cce7326d2dd0",
   "metadata": {},
   "outputs": [],
   "source": [
    "#decompose the list\n",
    "\n",
    "mylist =[12,34,52]"
   ]
  },
  {
   "cell_type": "code",
   "execution_count": 88,
   "id": "429cc94d-6918-48a4-a739-c51efd62dee9",
   "metadata": {},
   "outputs": [],
   "source": [
    "x,y,z = mylist"
   ]
  },
  {
   "cell_type": "code",
   "execution_count": 89,
   "id": "a06e925a-e0da-4448-824f-7837fc8959d8",
   "metadata": {},
   "outputs": [
    {
     "data": {
      "text/plain": [
       "12"
      ]
     },
     "execution_count": 89,
     "metadata": {},
     "output_type": "execute_result"
    }
   ],
   "source": [
    "x"
   ]
  },
  {
   "cell_type": "code",
   "execution_count": 90,
   "id": "4edd9acc-8351-4dff-975a-ff79e59568e1",
   "metadata": {},
   "outputs": [
    {
     "data": {
      "text/plain": [
       "34"
      ]
     },
     "execution_count": 90,
     "metadata": {},
     "output_type": "execute_result"
    }
   ],
   "source": [
    "y"
   ]
  },
  {
   "cell_type": "code",
   "execution_count": 91,
   "id": "0ca72508-09c5-471b-af8e-c93d7eccdcf7",
   "metadata": {},
   "outputs": [
    {
     "data": {
      "text/plain": [
       "52"
      ]
     },
     "execution_count": 91,
     "metadata": {},
     "output_type": "execute_result"
    }
   ],
   "source": [
    "z"
   ]
  },
  {
   "cell_type": "code",
   "execution_count": 92,
   "id": "25c54217-2f6f-4f5d-a139-ee4c0ccbb8a7",
   "metadata": {},
   "outputs": [
    {
     "data": {
      "text/plain": [
       "[12, 22, 32, 66, 87, 88]"
      ]
     },
     "execution_count": 92,
     "metadata": {},
     "output_type": "execute_result"
    }
   ],
   "source": [
    "###function on the list\n",
    "\n",
    "l"
   ]
  },
  {
   "cell_type": "code",
   "execution_count": 93,
   "id": "62ce74a5-8549-4155-9e96-0bcfc8132267",
   "metadata": {},
   "outputs": [
    {
     "data": {
      "text/plain": [
       "6"
      ]
     },
     "execution_count": 93,
     "metadata": {},
     "output_type": "execute_result"
    }
   ],
   "source": [
    "len(l)"
   ]
  },
  {
   "cell_type": "code",
   "execution_count": 94,
   "id": "668c26dd-073c-4c6a-88ac-2750fb4bb8c6",
   "metadata": {},
   "outputs": [
    {
     "data": {
      "text/plain": [
       "88"
      ]
     },
     "execution_count": 94,
     "metadata": {},
     "output_type": "execute_result"
    }
   ],
   "source": [
    "max(l)"
   ]
  },
  {
   "cell_type": "code",
   "execution_count": 96,
   "id": "b712ddc0-3a5c-4fd0-9264-ad6d10a2f5a4",
   "metadata": {},
   "outputs": [
    {
     "data": {
      "text/plain": [
       "307"
      ]
     },
     "execution_count": 96,
     "metadata": {},
     "output_type": "execute_result"
    }
   ],
   "source": [
    "sum(l)"
   ]
  },
  {
   "cell_type": "code",
   "execution_count": 97,
   "id": "7fde2ffa-7dd1-4d7e-98da-c239bb03b447",
   "metadata": {},
   "outputs": [
    {
     "data": {
      "text/plain": [
       "[12, 22, 32, 66, 87, 88]"
      ]
     },
     "execution_count": 97,
     "metadata": {},
     "output_type": "execute_result"
    }
   ],
   "source": [
    "sorted(l)"
   ]
  },
  {
   "cell_type": "code",
   "execution_count": 103,
   "id": "8c6bd34f-766f-4e76-8e5b-45d0e5700297",
   "metadata": {},
   "outputs": [
    {
     "data": {
      "text/plain": [
       "[88, 87, 66, 32, 22, 12]"
      ]
     },
     "execution_count": 103,
     "metadata": {},
     "output_type": "execute_result"
    }
   ],
   "source": [
    "sorted(l,reverse=True)"
   ]
  },
  {
   "cell_type": "code",
   "execution_count": 104,
   "id": "8f78ce87-da6c-4335-b4d6-a2c9df470e53",
   "metadata": {},
   "outputs": [],
   "source": [
    "name='pranali'"
   ]
  },
  {
   "cell_type": "code",
   "execution_count": 105,
   "id": "ea214fe5-4b56-409a-9d7c-45f9913b4be9",
   "metadata": {},
   "outputs": [
    {
     "data": {
      "text/plain": [
       "['p', 'r', 'a', 'n', 'a', 'l', 'i']"
      ]
     },
     "execution_count": 105,
     "metadata": {},
     "output_type": "execute_result"
    }
   ],
   "source": [
    "list(name)"
   ]
  },
  {
   "cell_type": "code",
   "execution_count": 106,
   "id": "02535c69-cdc4-4fcd-b676-22594d2ee3fe",
   "metadata": {},
   "outputs": [
    {
     "data": {
      "text/plain": [
       "[12, 22, 32, 66, 87, 88]"
      ]
     },
     "execution_count": 106,
     "metadata": {},
     "output_type": "execute_result"
    }
   ],
   "source": [
    "###methods on list\n",
    "l"
   ]
  },
  {
   "cell_type": "code",
   "execution_count": 108,
   "id": "a8f66da1-bfdc-4732-a353-0c8ea25342af",
   "metadata": {},
   "outputs": [],
   "source": [
    "#append \n",
    "l.append(100)"
   ]
  },
  {
   "cell_type": "code",
   "execution_count": 109,
   "id": "d2f72833-4d46-4619-92f7-c0852c63d178",
   "metadata": {},
   "outputs": [],
   "source": [
    "#append and extend\n",
    "\n",
    "x=[12,23,34]\n",
    "y=[12,23,34]"
   ]
  },
  {
   "cell_type": "code",
   "execution_count": 113,
   "id": "913880b9-9b99-4d5b-8e37-21f132c86bf7",
   "metadata": {},
   "outputs": [],
   "source": [
    "x.append([45,67])\n",
    "y.extend([45,67])"
   ]
  },
  {
   "cell_type": "code",
   "execution_count": 114,
   "id": "a037e574-a0ed-4c96-849d-f20bdd3d02e0",
   "metadata": {},
   "outputs": [
    {
     "data": {
      "text/plain": [
       "[12, 23, 34, [45, 67], [45, 67]]"
      ]
     },
     "execution_count": 114,
     "metadata": {},
     "output_type": "execute_result"
    }
   ],
   "source": [
    "x"
   ]
  },
  {
   "cell_type": "code",
   "execution_count": 115,
   "id": "1f4e0f9b-418e-4444-899d-9e68c92a93b2",
   "metadata": {},
   "outputs": [
    {
     "data": {
      "text/plain": [
       "[12, 23, 34, 45, 67, 45, 67]"
      ]
     },
     "execution_count": 115,
     "metadata": {},
     "output_type": "execute_result"
    }
   ],
   "source": [
    "y"
   ]
  },
  {
   "cell_type": "code",
   "execution_count": 117,
   "id": "725d34f5-62cb-4a79-8587-5b7766f38acc",
   "metadata": {},
   "outputs": [
    {
     "data": {
      "text/plain": [
       "[45, 67]"
      ]
     },
     "execution_count": 117,
     "metadata": {},
     "output_type": "execute_result"
    }
   ],
   "source": [
    "x.append([45,67])\n",
    "x[3]\n"
   ]
  },
  {
   "cell_type": "code",
   "execution_count": 118,
   "id": "43ada812-3c72-4956-9c3a-d5624fd569d4",
   "metadata": {},
   "outputs": [
    {
     "data": {
      "text/plain": [
       "67"
      ]
     },
     "execution_count": 118,
     "metadata": {},
     "output_type": "execute_result"
    }
   ],
   "source": [
    "x[3][1]"
   ]
  },
  {
   "cell_type": "code",
   "execution_count": 121,
   "id": "8b678bbe-6fd4-4c5f-a2a1-0fe98a0ad2f9",
   "metadata": {},
   "outputs": [
    {
     "data": {
      "text/plain": [
       "[12, 22, 177, 177, 32, 66, 87, 88, 100, 100]"
      ]
     },
     "execution_count": 121,
     "metadata": {},
     "output_type": "execute_result"
    }
   ],
   "source": [
    "#insert\n",
    "l.insert(2,177)\n",
    "l"
   ]
  },
  {
   "cell_type": "code",
   "execution_count": 122,
   "id": "fc6556ea-e97d-446c-a016-45e82890350e",
   "metadata": {},
   "outputs": [],
   "source": [
    "l.remove(177)"
   ]
  },
  {
   "cell_type": "code",
   "execution_count": 123,
   "id": "a25a8984-e96f-4ff4-b49b-6720e532c02c",
   "metadata": {},
   "outputs": [
    {
     "data": {
      "text/plain": [
       "[12, 22, 177, 32, 66, 87, 88, 100, 100]"
      ]
     },
     "execution_count": 123,
     "metadata": {},
     "output_type": "execute_result"
    }
   ],
   "source": [
    "l"
   ]
  },
  {
   "cell_type": "code",
   "execution_count": 124,
   "id": "79290ea5-1d54-4b56-a106-1ee1965261ce",
   "metadata": {},
   "outputs": [
    {
     "data": {
      "text/plain": [
       "1"
      ]
     },
     "execution_count": 124,
     "metadata": {},
     "output_type": "execute_result"
    }
   ],
   "source": [
    "l.count(12)"
   ]
  },
  {
   "cell_type": "code",
   "execution_count": 126,
   "id": "3e13c1ae-410c-4e98-88f2-685adca62dca",
   "metadata": {},
   "outputs": [
    {
     "data": {
      "text/plain": [
       "5"
      ]
     },
     "execution_count": 126,
     "metadata": {},
     "output_type": "execute_result"
    }
   ],
   "source": [
    "l.index(87)"
   ]
  },
  {
   "cell_type": "code",
   "execution_count": 127,
   "id": "46b3d795-1d12-4e84-8960-34c88a4e9138",
   "metadata": {},
   "outputs": [
    {
     "data": {
      "text/plain": [
       "100"
      ]
     },
     "execution_count": 127,
     "metadata": {},
     "output_type": "execute_result"
    }
   ],
   "source": [
    "##pop/delete\n",
    "\n",
    "l.pop()"
   ]
  },
  {
   "cell_type": "code",
   "execution_count": 128,
   "id": "4cda9c79-e910-4710-acab-945332448f59",
   "metadata": {},
   "outputs": [
    {
     "data": {
      "text/plain": [
       "[12, 22, 177, 32, 66, 87, 88, 100]"
      ]
     },
     "execution_count": 128,
     "metadata": {},
     "output_type": "execute_result"
    }
   ],
   "source": [
    "l"
   ]
  },
  {
   "cell_type": "code",
   "execution_count": 129,
   "id": "1ff25b89-4f52-4420-8897-95642415e207",
   "metadata": {},
   "outputs": [
    {
     "data": {
      "text/plain": [
       "32"
      ]
     },
     "execution_count": 129,
     "metadata": {},
     "output_type": "execute_result"
    }
   ],
   "source": [
    "l.pop(3)"
   ]
  },
  {
   "cell_type": "code",
   "execution_count": 131,
   "id": "f120de68-5b70-4880-aa33-a0fbb1eabd47",
   "metadata": {},
   "outputs": [],
   "source": [
    "l.reverse()"
   ]
  },
  {
   "cell_type": "code",
   "execution_count": 132,
   "id": "2d43774b-9a2d-428e-97fb-761e7f4c0f73",
   "metadata": {},
   "outputs": [
    {
     "data": {
      "text/plain": [
       "[100, 88, 87, 66, 177, 22, 12]"
      ]
     },
     "execution_count": 132,
     "metadata": {},
     "output_type": "execute_result"
    }
   ],
   "source": [
    "l"
   ]
  },
  {
   "cell_type": "code",
   "execution_count": 133,
   "id": "59ecf8c6-2239-455b-b406-a501cb4fc918",
   "metadata": {},
   "outputs": [],
   "source": [
    "l.sort()"
   ]
  },
  {
   "cell_type": "code",
   "execution_count": 134,
   "id": "9946bd83-075f-49cb-8b55-ebc7224aebe1",
   "metadata": {},
   "outputs": [
    {
     "data": {
      "text/plain": [
       "[12, 22, 66, 87, 88, 100, 177]"
      ]
     },
     "execution_count": 134,
     "metadata": {},
     "output_type": "execute_result"
    }
   ],
   "source": [
    "l"
   ]
  },
  {
   "cell_type": "code",
   "execution_count": 135,
   "id": "2c9b7d09-1dfe-4c1c-985f-69fb0bc0a62a",
   "metadata": {},
   "outputs": [],
   "source": [
    "###shallow copy\n",
    "\n",
    "l1 = [34,56,78]"
   ]
  },
  {
   "cell_type": "code",
   "execution_count": 136,
   "id": "f0e9e57e-b364-4ca6-b8d8-50fd7eb5b54e",
   "metadata": {},
   "outputs": [],
   "source": [
    "l2 = l1"
   ]
  },
  {
   "cell_type": "code",
   "execution_count": 137,
   "id": "14cca547-5730-4711-9564-61c4d6cad5c4",
   "metadata": {},
   "outputs": [
    {
     "data": {
      "text/plain": [
       "[34, 56, 78]"
      ]
     },
     "execution_count": 137,
     "metadata": {},
     "output_type": "execute_result"
    }
   ],
   "source": [
    "l2"
   ]
  },
  {
   "cell_type": "code",
   "execution_count": 138,
   "id": "0059300c-4ad2-4b33-941d-aef365d0e206",
   "metadata": {},
   "outputs": [],
   "source": [
    "l1.append(100)"
   ]
  },
  {
   "cell_type": "code",
   "execution_count": 139,
   "id": "505b3668-feff-40a7-b2fa-6f62c63c42f0",
   "metadata": {},
   "outputs": [
    {
     "data": {
      "text/plain": [
       "[34, 56, 78, 100]"
      ]
     },
     "execution_count": 139,
     "metadata": {},
     "output_type": "execute_result"
    }
   ],
   "source": [
    "l1"
   ]
  },
  {
   "cell_type": "code",
   "execution_count": 140,
   "id": "18ff2d9d-0b76-4d61-a0c4-06c596fb4e23",
   "metadata": {},
   "outputs": [
    {
     "data": {
      "text/plain": [
       "[34, 56, 78, 100]"
      ]
     },
     "execution_count": 140,
     "metadata": {},
     "output_type": "execute_result"
    }
   ],
   "source": [
    "l2"
   ]
  },
  {
   "cell_type": "code",
   "execution_count": 143,
   "id": "8593e39c-1d10-40f9-9d4e-f2e03f04f47b",
   "metadata": {},
   "outputs": [],
   "source": [
    "l1.append([45,67])"
   ]
  },
  {
   "cell_type": "code",
   "execution_count": 144,
   "id": "f9df1a9f-4778-4b47-a693-7f7ae0a3ac8c",
   "metadata": {},
   "outputs": [
    {
     "data": {
      "text/plain": [
       "[34, 56, 78, 100, [45, 67]]"
      ]
     },
     "execution_count": 144,
     "metadata": {},
     "output_type": "execute_result"
    }
   ],
   "source": [
    "l1"
   ]
  },
  {
   "cell_type": "code",
   "execution_count": 145,
   "id": "a401bea9-8d7f-4a1f-971a-6f804767300a",
   "metadata": {},
   "outputs": [],
   "source": [
    "###\n",
    "l3 = [45,56,67]"
   ]
  },
  {
   "cell_type": "code",
   "execution_count": 146,
   "id": "cfcf3b1c-1dcf-44d1-b7b0-916631555456",
   "metadata": {},
   "outputs": [],
   "source": [
    "l4 = l3.copy()"
   ]
  },
  {
   "cell_type": "code",
   "execution_count": 147,
   "id": "0b24a4c6-b532-44c8-888a-f00ea802aaa1",
   "metadata": {},
   "outputs": [
    {
     "data": {
      "text/plain": [
       "[45, 56, 67]"
      ]
     },
     "execution_count": 147,
     "metadata": {},
     "output_type": "execute_result"
    }
   ],
   "source": [
    "l4"
   ]
  },
  {
   "cell_type": "code",
   "execution_count": 148,
   "id": "7b79fb6b-4443-41a7-8d1d-5409732f1166",
   "metadata": {},
   "outputs": [],
   "source": [
    "l3.append(1000)"
   ]
  },
  {
   "cell_type": "code",
   "execution_count": 149,
   "id": "12e76381-76cb-48e5-8de4-b45accbb7d27",
   "metadata": {},
   "outputs": [
    {
     "data": {
      "text/plain": [
       "[45, 56, 67, 1000]"
      ]
     },
     "execution_count": 149,
     "metadata": {},
     "output_type": "execute_result"
    }
   ],
   "source": [
    "l3"
   ]
  },
  {
   "cell_type": "code",
   "execution_count": 150,
   "id": "4fb02a6e-af2f-40a7-9aaf-8b4b9d4dd16e",
   "metadata": {},
   "outputs": [
    {
     "data": {
      "text/plain": [
       "[45, 56, 67]"
      ]
     },
     "execution_count": 150,
     "metadata": {},
     "output_type": "execute_result"
    }
   ],
   "source": [
    "l4"
   ]
  },
  {
   "cell_type": "code",
   "execution_count": 153,
   "id": "88f0641b-9fad-42a6-b5de-6daf60e7c8f1",
   "metadata": {},
   "outputs": [
    {
     "data": {
      "text/plain": [
       "[45, 56, 67, [34, 59]]"
      ]
     },
     "execution_count": 153,
     "metadata": {},
     "output_type": "execute_result"
    }
   ],
   "source": [
    "l3 = [45,56,67,[34,59]]\n",
    "l3"
   ]
  },
  {
   "cell_type": "code",
   "execution_count": 154,
   "id": "92406117-646f-4949-b9e3-36d87cf33c20",
   "metadata": {},
   "outputs": [
    {
     "data": {
      "text/plain": [
       "[45, 56, 67, [34, 59]]"
      ]
     },
     "execution_count": 154,
     "metadata": {},
     "output_type": "execute_result"
    }
   ],
   "source": [
    "l4 = l3.copy()\n",
    "l4"
   ]
  },
  {
   "cell_type": "code",
   "execution_count": 155,
   "id": "ba41312e-7646-44b8-afe8-e7e3e72b9b8d",
   "metadata": {},
   "outputs": [],
   "source": [
    "l3[3].append('sanika')"
   ]
  },
  {
   "cell_type": "code",
   "execution_count": 156,
   "id": "9726813d-58eb-4844-97a2-591e1342c0be",
   "metadata": {},
   "outputs": [
    {
     "data": {
      "text/plain": [
       "[45, 56, 67, [34, 59, 'sanika']]"
      ]
     },
     "execution_count": 156,
     "metadata": {},
     "output_type": "execute_result"
    }
   ],
   "source": [
    "l3"
   ]
  },
  {
   "cell_type": "code",
   "execution_count": 157,
   "id": "ff5dddf8-b06d-489a-a9d5-139149933804",
   "metadata": {},
   "outputs": [
    {
     "data": {
      "text/plain": [
       "[45, 56, 67, [34, 59, 'sanika']]"
      ]
     },
     "execution_count": 157,
     "metadata": {},
     "output_type": "execute_result"
    }
   ],
   "source": [
    "l4"
   ]
  },
  {
   "cell_type": "code",
   "execution_count": 158,
   "id": "49e46894-5b44-4946-8c80-c702a685d2b2",
   "metadata": {},
   "outputs": [
    {
     "data": {
      "text/plain": [
       "[12, 22, 66, 87, 88, 100, 177]"
      ]
     },
     "execution_count": 158,
     "metadata": {},
     "output_type": "execute_result"
    }
   ],
   "source": [
    "l"
   ]
  },
  {
   "cell_type": "code",
   "execution_count": 165,
   "id": "74e6a072-af91-480a-9cb5-9b49a23fffff",
   "metadata": {},
   "outputs": [
    {
     "name": "stdout",
     "output_type": "stream",
     "text": [
      "0 12\n",
      "1 22\n",
      "2 66\n",
      "3 87\n",
      "4 88\n",
      "5 100\n",
      "6 177\n"
     ]
    }
   ],
   "source": [
    "#iterate over a list and print index as well as value\n",
    "\n",
    "for n in l:\n",
    "    print(l.index(n),n)\n",
    "\n"
   ]
  },
  {
   "cell_type": "code",
   "execution_count": 167,
   "id": "8d45ec4c-5384-471b-b6c5-76ed067e5e64",
   "metadata": {},
   "outputs": [
    {
     "name": "stdout",
     "output_type": "stream",
     "text": [
      "1 12\n",
      "2 22\n",
      "3 66\n",
      "4 87\n",
      "5 88\n",
      "6 100\n",
      "7 177\n"
     ]
    }
   ],
   "source": [
    "for index, n in enumerate(l,1):\n",
    "    print(index,n)"
   ]
  },
  {
   "cell_type": "code",
   "execution_count": 171,
   "id": "80d05083-744a-4011-865a-8022bd5fc584",
   "metadata": {},
   "outputs": [
    {
     "data": {
      "text/plain": [
       "(12, 23, 45, 67)"
      ]
     },
     "execution_count": 171,
     "metadata": {},
     "output_type": "execute_result"
    }
   ],
   "source": [
    "###tuple\n",
    "t =(12,23,45,67)\n",
    "t"
   ]
  },
  {
   "cell_type": "code",
   "execution_count": 174,
   "id": "d5177da9-dec0-45b1-be02-9cc2ab3dde43",
   "metadata": {},
   "outputs": [
    {
     "data": {
      "text/plain": [
       "tuple"
      ]
     },
     "execution_count": 174,
     "metadata": {},
     "output_type": "execute_result"
    }
   ],
   "source": [
    "type(t)"
   ]
  },
  {
   "cell_type": "code",
   "execution_count": 176,
   "id": "641424f1-5415-4365-88ba-5205f9e80e29",
   "metadata": {},
   "outputs": [
    {
     "data": {
      "text/plain": [
       "(12, 23, 45, 67, 'a')"
      ]
     },
     "execution_count": 176,
     "metadata": {},
     "output_type": "execute_result"
    }
   ],
   "source": [
    "t =(12,23,45,67,'a')\n",
    "t"
   ]
  },
  {
   "cell_type": "code",
   "execution_count": 177,
   "id": "c76be84b-66f2-4e11-a4f0-20b03f2538dd",
   "metadata": {},
   "outputs": [
    {
     "data": {
      "text/plain": [
       "45"
      ]
     },
     "execution_count": 177,
     "metadata": {},
     "output_type": "execute_result"
    }
   ],
   "source": [
    "t[2]"
   ]
  },
  {
   "cell_type": "code",
   "execution_count": 178,
   "id": "eac1364e-ab9c-4d20-b9a0-d85d04322e6b",
   "metadata": {},
   "outputs": [
    {
     "data": {
      "text/plain": [
       "(12, 23, 45, 67, 'a')"
      ]
     },
     "execution_count": 178,
     "metadata": {},
     "output_type": "execute_result"
    }
   ],
   "source": [
    "t"
   ]
  },
  {
   "cell_type": "code",
   "execution_count": 180,
   "id": "420d6118-e664-4dc6-b151-84014b6a41cb",
   "metadata": {},
   "outputs": [],
   "source": [
    "t1 = list(t)"
   ]
  },
  {
   "cell_type": "code",
   "execution_count": 181,
   "id": "58bac71d-5406-40c2-810f-f5b67150e7d4",
   "metadata": {},
   "outputs": [
    {
     "data": {
      "text/plain": [
       "list"
      ]
     },
     "execution_count": 181,
     "metadata": {},
     "output_type": "execute_result"
    }
   ],
   "source": [
    "type(t1)"
   ]
  },
  {
   "cell_type": "code",
   "execution_count": 182,
   "id": "d89d493e-1679-4381-828d-b9d1bc2fffe9",
   "metadata": {},
   "outputs": [
    {
     "data": {
      "text/plain": [
       "(12, 23, 45, 67, 'a')"
      ]
     },
     "execution_count": 182,
     "metadata": {},
     "output_type": "execute_result"
    }
   ],
   "source": [
    "tuple(t1)"
   ]
  },
  {
   "cell_type": "code",
   "execution_count": 189,
   "id": "198a6174-ea8d-4c1c-b604-1fda9b6687dc",
   "metadata": {},
   "outputs": [],
   "source": [
    "###set(no duplicate value allowed)\n",
    "\n",
    "s = {34,45,56,34,78,'b'}"
   ]
  },
  {
   "cell_type": "code",
   "execution_count": 190,
   "id": "6bc266f1-c239-4938-9e6f-067219dc708b",
   "metadata": {},
   "outputs": [
    {
     "data": {
      "text/plain": [
       "{34, 45, 56, 78, 'b'}"
      ]
     },
     "execution_count": 190,
     "metadata": {},
     "output_type": "execute_result"
    }
   ],
   "source": [
    "s"
   ]
  },
  {
   "cell_type": "code",
   "execution_count": 185,
   "id": "75c082c5-09f8-4360-96f5-0e3b085fe228",
   "metadata": {},
   "outputs": [
    {
     "data": {
      "text/plain": [
       "set"
      ]
     },
     "execution_count": 185,
     "metadata": {},
     "output_type": "execute_result"
    }
   ],
   "source": [
    "type(s)"
   ]
  },
  {
   "cell_type": "code",
   "execution_count": 186,
   "id": "8fa5b043-62da-4901-967a-31ac3705f7ef",
   "metadata": {},
   "outputs": [
    {
     "ename": "TypeError",
     "evalue": "'set' object is not callable",
     "output_type": "error",
     "traceback": [
      "\u001b[1;31m---------------------------------------------------------------------------\u001b[0m",
      "\u001b[1;31mTypeError\u001b[0m                                 Traceback (most recent call last)",
      "Cell \u001b[1;32mIn[186], line 1\u001b[0m\n\u001b[1;32m----> 1\u001b[0m s(\u001b[38;5;241m4\u001b[39m)\n",
      "\u001b[1;31mTypeError\u001b[0m: 'set' object is not callable"
     ]
    }
   ],
   "source": [
    "s(4)"
   ]
  },
  {
   "cell_type": "code",
   "execution_count": 187,
   "id": "fb77e2f6-033c-4f5e-abe1-1c12bd1b3a12",
   "metadata": {},
   "outputs": [],
   "source": [
    "s.add(55)"
   ]
  },
  {
   "cell_type": "code",
   "execution_count": 191,
   "id": "311fd233-d89a-4c3d-9eb8-7662f3aaebb7",
   "metadata": {},
   "outputs": [
    {
     "data": {
      "text/plain": [
       "{34, 45, 56, 78, 'b'}"
      ]
     },
     "execution_count": 191,
     "metadata": {},
     "output_type": "execute_result"
    }
   ],
   "source": [
    "s"
   ]
  },
  {
   "cell_type": "code",
   "execution_count": 192,
   "id": "6dc977d1-e094-4dc5-80db-007eb1696b4d",
   "metadata": {},
   "outputs": [],
   "source": [
    "s1 = frozenset(s)"
   ]
  },
  {
   "cell_type": "code",
   "execution_count": 193,
   "id": "7d40da5e-f32b-4ba3-8916-798c96ed0187",
   "metadata": {},
   "outputs": [
    {
     "data": {
      "text/plain": [
       "frozenset({34, 45, 56, 78, 'b'})"
      ]
     },
     "execution_count": 193,
     "metadata": {},
     "output_type": "execute_result"
    }
   ],
   "source": [
    "s1"
   ]
  },
  {
   "cell_type": "code",
   "execution_count": 194,
   "id": "716ff634-1a46-45ad-b365-3c96f35cd446",
   "metadata": {},
   "outputs": [
    {
     "ename": "AttributeError",
     "evalue": "'frozenset' object has no attribute 'add'",
     "output_type": "error",
     "traceback": [
      "\u001b[1;31m---------------------------------------------------------------------------\u001b[0m",
      "\u001b[1;31mAttributeError\u001b[0m                            Traceback (most recent call last)",
      "Cell \u001b[1;32mIn[194], line 1\u001b[0m\n\u001b[1;32m----> 1\u001b[0m s1\u001b[38;5;241m.\u001b[39madd(\u001b[38;5;241m90\u001b[39m)\n",
      "\u001b[1;31mAttributeError\u001b[0m: 'frozenset' object has no attribute 'add'"
     ]
    }
   ],
   "source": [
    "s1.add(90)"
   ]
  },
  {
   "cell_type": "code",
   "execution_count": 195,
   "id": "9f3e7055-52bc-413c-a658-82570228a5f1",
   "metadata": {},
   "outputs": [],
   "source": [
    "###dictinary\n",
    "\n",
    "d = {1:45,2:56,3:78,7:90}"
   ]
  },
  {
   "cell_type": "code",
   "execution_count": 196,
   "id": "42fa059b-4321-4bb6-adf9-b92e34310388",
   "metadata": {},
   "outputs": [
    {
     "data": {
      "text/plain": [
       "{1: 45, 2: 56, 3: 78, 7: 90}"
      ]
     },
     "execution_count": 196,
     "metadata": {},
     "output_type": "execute_result"
    }
   ],
   "source": [
    "d"
   ]
  },
  {
   "cell_type": "code",
   "execution_count": 197,
   "id": "5f89e2b5-ba4d-4e54-a899-3e871af41bf6",
   "metadata": {},
   "outputs": [
    {
     "data": {
      "text/plain": [
       "dict"
      ]
     },
     "execution_count": 197,
     "metadata": {},
     "output_type": "execute_result"
    }
   ],
   "source": [
    "type(d)"
   ]
  },
  {
   "cell_type": "code",
   "execution_count": 198,
   "id": "575d86ed-71de-4538-9379-75053f99efb9",
   "metadata": {},
   "outputs": [
    {
     "data": {
      "text/plain": [
       "78"
      ]
     },
     "execution_count": 198,
     "metadata": {},
     "output_type": "execute_result"
    }
   ],
   "source": [
    "d[3]"
   ]
  },
  {
   "cell_type": "code",
   "execution_count": 199,
   "id": "8cca48ad-4a6b-433b-8bf2-c6996146ca78",
   "metadata": {},
   "outputs": [
    {
     "data": {
      "text/plain": [
       "90"
      ]
     },
     "execution_count": 199,
     "metadata": {},
     "output_type": "execute_result"
    }
   ],
   "source": [
    "d[7]"
   ]
  },
  {
   "cell_type": "code",
   "execution_count": 200,
   "id": "a1cd7201-a81b-439a-8305-4a0b9bb28f6f",
   "metadata": {},
   "outputs": [],
   "source": [
    "d[10] = 66"
   ]
  },
  {
   "cell_type": "code",
   "execution_count": 201,
   "id": "6e4d8c29-258a-46f0-acc6-918d2427ddfb",
   "metadata": {},
   "outputs": [
    {
     "data": {
      "text/plain": [
       "{1: 45, 2: 56, 3: 78, 7: 90, 10: 66}"
      ]
     },
     "execution_count": 201,
     "metadata": {},
     "output_type": "execute_result"
    }
   ],
   "source": [
    "d"
   ]
  },
  {
   "cell_type": "code",
   "execution_count": 202,
   "id": "37976d7a-ecf6-44a1-be8a-20d3585aa2bf",
   "metadata": {},
   "outputs": [],
   "source": [
    "d[3] = 73"
   ]
  },
  {
   "cell_type": "code",
   "execution_count": 203,
   "id": "9b9d6ea5-af0f-4a12-a2eb-7747cc4dcca2",
   "metadata": {},
   "outputs": [
    {
     "data": {
      "text/plain": [
       "{1: 45, 2: 56, 3: 73, 7: 90, 10: 66}"
      ]
     },
     "execution_count": 203,
     "metadata": {},
     "output_type": "execute_result"
    }
   ],
   "source": [
    "d"
   ]
  },
  {
   "cell_type": "code",
   "execution_count": 206,
   "id": "faa3d86c-dd2e-4669-a91d-98bbb9bfd223",
   "metadata": {},
   "outputs": [],
   "source": [
    "d[11] = 60,'sneha'  ##any data type stored"
   ]
  },
  {
   "cell_type": "code",
   "execution_count": 207,
   "id": "f7482f84-853a-45fb-825b-666af5cd91e2",
   "metadata": {},
   "outputs": [
    {
     "data": {
      "text/plain": [
       "{1: 45, 2: 56, 3: 73, 7: 90, 10: 66, 11: (60, 'sneha')}"
      ]
     },
     "execution_count": 207,
     "metadata": {},
     "output_type": "execute_result"
    }
   ],
   "source": [
    "d"
   ]
  },
  {
   "cell_type": "code",
   "execution_count": 208,
   "id": "77293118-51a6-457a-a450-1a28c4e2299f",
   "metadata": {},
   "outputs": [
    {
     "data": {
      "text/plain": [
       "dict_keys([1, 2, 3, 7, 10, 11])"
      ]
     },
     "execution_count": 208,
     "metadata": {},
     "output_type": "execute_result"
    }
   ],
   "source": [
    "d.keys()"
   ]
  },
  {
   "cell_type": "code",
   "execution_count": 209,
   "id": "9b008129-4ebc-4b1c-9383-afb1d29f83c3",
   "metadata": {},
   "outputs": [
    {
     "data": {
      "text/plain": [
       "dict_values([45, 56, 73, 90, 66, (60, 'sneha')])"
      ]
     },
     "execution_count": 209,
     "metadata": {},
     "output_type": "execute_result"
    }
   ],
   "source": [
    "d.values()"
   ]
  },
  {
   "cell_type": "code",
   "execution_count": null,
   "id": "e83ec0c3-5020-4ba2-9adf-4a5a83ae1dfb",
   "metadata": {},
   "outputs": [],
   "source": []
  }
 ],
 "metadata": {
  "kernelspec": {
   "display_name": "Python 3 (ipykernel)",
   "language": "python",
   "name": "python3"
  },
  "language_info": {
   "codemirror_mode": {
    "name": "ipython",
    "version": 3
   },
   "file_extension": ".py",
   "mimetype": "text/x-python",
   "name": "python",
   "nbconvert_exporter": "python",
   "pygments_lexer": "ipython3",
   "version": "3.11.7"
  }
 },
 "nbformat": 4,
 "nbformat_minor": 5
}
