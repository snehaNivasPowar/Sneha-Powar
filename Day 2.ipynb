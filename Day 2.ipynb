{
 "cells": [
  {
   "cell_type": "code",
   "execution_count": 6,
   "id": "33764580-caae-4226-b52c-857323e96e80",
   "metadata": {},
   "outputs": [
    {
     "name": "stdout",
     "output_type": "stream",
     "text": [
      "sneha sneha sneha sneha sneha sneha sneha sneha sneha sneha sneha sneha sneha sneha sneha "
     ]
    }
   ],
   "source": [
    "#printing name 15 times\n",
    "\n",
    "count = 1\n",
    "while count <= 15:\n",
    "    print(\"sneha\",end = ' ')\n",
    "    count = count + 1"
   ]
  },
  {
   "cell_type": "code",
   "execution_count": 3,
   "id": "c255902d-5d19-4336-844b-67476aff0965",
   "metadata": {},
   "outputs": [
    {
     "name": "stdout",
     "output_type": "stream",
     "text": [
      "16\n"
     ]
    }
   ],
   "source": [
    "print(count)"
   ]
  },
  {
   "cell_type": "code",
   "execution_count": 13,
   "id": "787727ac-d49d-40ec-871a-8a4cff0cf5f3",
   "metadata": {},
   "outputs": [
    {
     "name": "stdout",
     "output_type": "stream",
     "text": [
      "1\n",
      "2\n",
      "3\n",
      "4\n",
      "5\n"
     ]
    }
   ],
   "source": [
    "count = 1\n",
    "while count <= 5:\n",
    "    print(count)\n",
    "    count += 1"
   ]
  },
  {
   "cell_type": "code",
   "execution_count": 18,
   "id": "0c1795be-dde9-4fe3-ae3e-21aeba1f2ffe",
   "metadata": {},
   "outputs": [
    {
     "name": "stdout",
     "output_type": "stream",
     "text": [
      "1\n",
      "3\n",
      "5\n",
      "7\n",
      "9\n",
      "11\n",
      "13\n",
      "15\n",
      "17\n",
      "19\n"
     ]
    }
   ],
   "source": [
    "#odd number\n",
    "count = 1\n",
    "while count <=20:\n",
    "    print(count)\n",
    "    count += 2"
   ]
  },
  {
   "cell_type": "code",
   "execution_count": null,
   "id": "928e7e76-5fb7-404d-848d-8c708d2069f1",
   "metadata": {},
   "outputs": [],
   "source": [
    "  #find the additiion all number from  1 to 10\n",
    "\n",
    "count = 1\n",
    "add = 0\n",
    "\n",
    "while count <=10:\n",
    "    add = add+count\n",
    "    count += 1\n",
    "    \n",
    "print(\"addition\",add)   "
   ]
  },
  {
   "cell_type": "code",
   "execution_count": null,
   "id": "9c5af04c-6528-4dc8-857f-3343ae39dc0c",
   "metadata": {},
   "outputs": [],
   "source": [
    "# find addtion of all the odd numbers from 1 to20\n",
    "\n",
    "count = 1\n",
    "add = 0\n",
    "while count <=20:\n",
    "    add = add+count\n",
    "    count += 2\n",
    "\n",
    "print(\"addition\",add)\n"
   ]
  },
  {
   "cell_type": "code",
   "execution_count": 25,
   "id": "fee40b04-bf1a-4880-9de8-183d9342eefe",
   "metadata": {},
   "outputs": [
    {
     "name": "stdin",
     "output_type": "stream",
     "text": [
      "enter your number 250\n"
     ]
    },
    {
     "name": "stdout",
     "output_type": "stream",
     "text": [
      "addtion 7\n"
     ]
    }
   ],
   "source": [
    "#find the addtion of all the digits of a number\n",
    "\n",
    "num =int(input(\"enter your number\"))\n",
    "count =1\n",
    "add=0\n",
    "while num>0:\n",
    "    rem = num%10\n",
    "    add =add+rem\n",
    "    num = num//10\n",
    "\n",
    "print(\"addtion\",add)\n",
    "    \n"
   ]
  },
  {
   "cell_type": "code",
   "execution_count": 24,
   "id": "043e5270-1fcc-4881-98f5-9d57fd8810ed",
   "metadata": {},
   "outputs": [
    {
     "name": "stdin",
     "output_type": "stream",
     "text": [
      "enter the number 2\n"
     ]
    },
    {
     "name": "stdout",
     "output_type": "stream",
     "text": [
      "factorial is 2\n"
     ]
    }
   ],
   "source": [
    "# find the factorial of any number\n",
    "\n",
    "num=int(input(\"enter the number\"))\n",
    "fact = 1\n",
    "while num >= 1:\n",
    "    fact = fact*num\n",
    "    num -= 1\n",
    "\n",
    "print(\"factorial is\", fact)"
   ]
  },
  {
   "cell_type": "code",
   "execution_count": 26,
   "id": "02b41e5b-7370-4272-9dca-3477d07efd0b",
   "metadata": {},
   "outputs": [
    {
     "name": "stdout",
     "output_type": "stream",
     "text": [
      "34\n",
      "45\n",
      "67\n",
      "78\n"
     ]
    }
   ],
   "source": [
    "#for loop sequense\n",
    "for n in 34,45,67,78:\n",
    "    print(n)"
   ]
  },
  {
   "cell_type": "code",
   "execution_count": 27,
   "id": "20e31e00-b555-407e-92ab-c3a1bc993ca6",
   "metadata": {},
   "outputs": [
    {
     "name": "stdout",
     "output_type": "stream",
     "text": [
      "17.0\n",
      "22.5\n",
      "33.5\n",
      "39.0\n"
     ]
    }
   ],
   "source": [
    "for n in 34,45,67,78:\n",
    "    print(n/2)"
   ]
  },
  {
   "cell_type": "code",
   "execution_count": 28,
   "id": "7a1a2ba8-4750-4d0d-8831-fcab2c058261",
   "metadata": {},
   "outputs": [
    {
     "data": {
      "text/plain": [
       "[0, 1, 2, 3, 4, 5, 6, 7, 8, 9]"
      ]
     },
     "execution_count": 28,
     "metadata": {},
     "output_type": "execute_result"
    }
   ],
   "source": [
    "#range function\n",
    "list (range(10))\n"
   ]
  },
  {
   "cell_type": "code",
   "execution_count": 30,
   "id": "9e7f1995-e474-477f-bb93-6786a913c4f0",
   "metadata": {},
   "outputs": [
    {
     "data": {
      "text/plain": [
       "[5, 6, 7, 8, 9, 10, 11, 12, 13, 14, 15]"
      ]
     },
     "execution_count": 30,
     "metadata": {},
     "output_type": "execute_result"
    }
   ],
   "source": [
    "list(range (5,16))"
   ]
  },
  {
   "cell_type": "code",
   "execution_count": 31,
   "id": "f5d14c94-851c-4f73-8cdf-1e3413287003",
   "metadata": {},
   "outputs": [
    {
     "data": {
      "text/plain": [
       "[5, 8, 11, 14]"
      ]
     },
     "execution_count": 31,
     "metadata": {},
     "output_type": "execute_result"
    }
   ],
   "source": [
    "list(range (5,16,3))"
   ]
  },
  {
   "cell_type": "code",
   "execution_count": 36,
   "id": "9bdc75ce-1d21-41f1-b409-86bd21761c66",
   "metadata": {},
   "outputs": [
    {
     "data": {
      "text/plain": [
       "[23,\n",
       " 22,\n",
       " 21,\n",
       " 20,\n",
       " 19,\n",
       " 18,\n",
       " 17,\n",
       " 16,\n",
       " 15,\n",
       " 14,\n",
       " 13,\n",
       " 12,\n",
       " 11,\n",
       " 10,\n",
       " 9,\n",
       " 8,\n",
       " 7,\n",
       " 6,\n",
       " 5,\n",
       " 4,\n",
       " 3,\n",
       " 2]"
      ]
     },
     "execution_count": 36,
     "metadata": {},
     "output_type": "execute_result"
    }
   ],
   "source": [
    "#range (start,end+1,step)\n",
    "list(range (23,1,-1))"
   ]
  },
  {
   "cell_type": "code",
   "execution_count": 37,
   "id": "722494b6-c11c-4055-ad79-f51e82bb01d3",
   "metadata": {},
   "outputs": [
    {
     "name": "stdout",
     "output_type": "stream",
     "text": [
      "0\n",
      "1\n",
      "2\n",
      "3\n",
      "4\n"
     ]
    }
   ],
   "source": [
    "for n in range(5):\n",
    "    print(n)"
   ]
  },
  {
   "cell_type": "code",
   "execution_count": 43,
   "id": "ff9c85ba-a3a7-4b1a-9f74-f25c8a85448d",
   "metadata": {},
   "outputs": [
    {
     "name": "stdout",
     "output_type": "stream",
     "text": [
      "0\n",
      "1\n",
      "4\n",
      "9\n",
      "16\n",
      "25\n"
     ]
    }
   ],
   "source": [
    "for n in range(6):\n",
    "    print(n*n)"
   ]
  },
  {
   "cell_type": "code",
   "execution_count": 48,
   "id": "854365c1-fd01-4765-aa4a-e584359f74da",
   "metadata": {},
   "outputs": [
    {
     "name": "stdout",
     "output_type": "stream",
     "text": [
      "sneha sneha sneha sneha sneha sneha sneha sneha sneha sneha "
     ]
    }
   ],
   "source": [
    "for n in range(10):\n",
    "    print('sneha',end=' ')"
   ]
  },
  {
   "cell_type": "code",
   "execution_count": 53,
   "id": "3f50a660-959c-44e7-9a20-5680a4e6d4f1",
   "metadata": {},
   "outputs": [
    {
     "name": "stdout",
     "output_type": "stream",
     "text": [
      "addition 55\n"
     ]
    }
   ],
   "source": [
    "add=0\n",
    "for n in range(1,11):\n",
    "    add=add+n\n",
    "\n",
    "print(\"addition\",add)"
   ]
  },
  {
   "cell_type": "code",
   "execution_count": 56,
   "id": "18cb3540-b788-4ec2-ad93-7ef47c714c98",
   "metadata": {},
   "outputs": [
    {
     "name": "stdout",
     "output_type": "stream",
     "text": [
      "addition 100\n"
     ]
    }
   ],
   "source": [
    "add=0\n",
    "for n in range(1,21,2):\n",
    "    add=add+n\n",
    "\n",
    "print(\"addition\",add)"
   ]
  },
  {
   "cell_type": "code",
   "execution_count": 57,
   "id": "148dbf87-8ab5-46b0-882f-f8182e06e626",
   "metadata": {},
   "outputs": [
    {
     "name": "stdout",
     "output_type": "stream",
     "text": [
      "s\n",
      "n\n",
      "e\n",
      "h\n",
      "a\n"
     ]
    }
   ],
   "source": [
    "for n in 'sneha':\n",
    "    print(n)"
   ]
  },
  {
   "cell_type": "code",
   "execution_count": 58,
   "id": "8256d550-80d6-4f77-b521-a4ba7b9bab0a",
   "metadata": {},
   "outputs": [
    {
     "name": "stdout",
     "output_type": "stream",
     "text": [
      "sneha\n",
      "pranali\n"
     ]
    }
   ],
   "source": [
    "for n in 'sneha','pranali':\n",
    "    print(n)"
   ]
  },
  {
   "cell_type": "code",
   "execution_count": 74,
   "id": "bbf71509-5be4-4aa9-a409-ec5536939a3d",
   "metadata": {},
   "outputs": [
    {
     "name": "stdin",
     "output_type": "stream",
     "text": [
      "enter the number 3\n"
     ]
    },
    {
     "name": "stdout",
     "output_type": "stream",
     "text": [
      "factorial is 6\n"
     ]
    }
   ],
   "source": [
    "#factorial using for loop\n",
    "\n",
    "num=int(input(\"enter the number\"))\n",
    "fact = 1\n",
    "for n in range(1,num+1):\n",
    "    fact = fact*num\n",
    "    num = num-1\n",
    "\n",
    "print(\"factorial is\", fact)\n"
   ]
  },
  {
   "cell_type": "code",
   "execution_count": 80,
   "id": "f95a447e-95f8-4307-8f79-a019ff95034b",
   "metadata": {},
   "outputs": [],
   "source": [
    "#break stmt\n",
    "for n in range(1,11):\n",
    "    if n==5:\n",
    "        break\n",
    "        print(n)\n",
    "        "
   ]
  },
  {
   "cell_type": "code",
   "execution_count": null,
   "id": "20795fff-81bf-4f7a-9a2c-304d2930fb02",
   "metadata": {},
   "outputs": [],
   "source": [
    "#break stmt\n",
    "for n in range(1,11):\n",
    "    if n==5:\n",
    "        break\n",
    "        print(n)\n",
    "        \n",
    "        "
   ]
  },
  {
   "cell_type": "code",
   "execution_count": 5,
   "id": "19d465c6-537d-4792-bbb1-d171e8be58c0",
   "metadata": {},
   "outputs": [
    {
     "name": "stdin",
     "output_type": "stream",
     "text": [
      "enter the number of rows 3\n"
     ]
    },
    {
     "name": "stdout",
     "output_type": "stream",
     "text": [
      "* \n",
      "* \n",
      "* \n",
      "* \n",
      "* \n",
      "* \n"
     ]
    }
   ],
   "source": [
    "rows=int(input(\"enter the number of rows\"))\n",
    "               \n",
    "for i in range(1,rows+1):\n",
    "  for  j in range(i):\n",
    "        print('*',end=' ')\n",
    "        print() \n",
    "              \n",
    "    "
   ]
  },
  {
   "cell_type": "code",
   "execution_count": null,
   "id": "65c8eae9-8939-4f48-a809-102ae9d6c478",
   "metadata": {},
   "outputs": [],
   "source": []
  }
 ],
 "metadata": {
  "kernelspec": {
   "display_name": "Python 3 (ipykernel)",
   "language": "python",
   "name": "python3"
  },
  "language_info": {
   "codemirror_mode": {
    "name": "ipython",
    "version": 3
   },
   "file_extension": ".py",
   "mimetype": "text/x-python",
   "name": "python",
   "nbconvert_exporter": "python",
   "pygments_lexer": "ipython3",
   "version": "3.11.7"
  }
 },
 "nbformat": 4,
 "nbformat_minor": 5
}
