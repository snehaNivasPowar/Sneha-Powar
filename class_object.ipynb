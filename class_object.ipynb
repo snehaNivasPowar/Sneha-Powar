{
 "cells": [
  {
   "cell_type": "code",
   "execution_count": 1,
   "id": "b828cdd6-3459-4417-8e53-b952fd71fa5d",
   "metadata": {},
   "outputs": [],
   "source": [
    "class Employee():     #class creation\n",
    "    pass "
   ]
  },
  {
   "cell_type": "code",
   "execution_count": 2,
   "id": "3e8f4c3e-6b9e-4682-9c7d-0f0b4940b413",
   "metadata": {},
   "outputs": [],
   "source": [
    "emp1 = Employee()   #instance of a class\n",
    "emp2 = Employee()"
   ]
  },
  {
   "cell_type": "code",
   "execution_count": 3,
   "id": "b78a0745-e6be-49f5-a9c0-742eb591311e",
   "metadata": {},
   "outputs": [
    {
     "name": "stdout",
     "output_type": "stream",
     "text": [
      "<__main__.Employee object at 0x0000028368CE3690>\n",
      "<__main__.Employee object at 0x0000028368CE34D0>\n"
     ]
    }
   ],
   "source": [
    "print(emp1)\n",
    "print(emp2)"
   ]
  },
  {
   "cell_type": "code",
   "execution_count": 8,
   "id": "703d6cba-c0af-4b72-a842-194121be6c69",
   "metadata": {},
   "outputs": [],
   "source": [
    "emp1.first = 'natasha'     #instance variable\n",
    "emp1.last = 'nagi'\n",
    "emp1.salary = '52000'\n",
    "\n",
    "emp2.first = 'raj'     \n",
    "emp2.last = 'sharma'\n",
    "emp2.salary = '50000'"
   ]
  },
  {
   "cell_type": "code",
   "execution_count": 6,
   "id": "88e94255-1ee2-4b97-b81f-c24c6e6b2946",
   "metadata": {},
   "outputs": [
    {
     "name": "stdout",
     "output_type": "stream",
     "text": [
      "natasha\n"
     ]
    }
   ],
   "source": [
    "print(emp1.first)"
   ]
  },
  {
   "cell_type": "code",
   "execution_count": 7,
   "id": "eb6f627f-8832-42e5-a604-f67e2e96aedd",
   "metadata": {},
   "outputs": [
    {
     "name": "stdout",
     "output_type": "stream",
     "text": [
      "50000\n"
     ]
    }
   ],
   "source": [
    "print(emp2.salary)"
   ]
  },
  {
   "cell_type": "code",
   "execution_count": 37,
   "id": "a5444bb0-4fba-4ab1-8cc9-bf901e7993fa",
   "metadata": {},
   "outputs": [],
   "source": [
    "class Employee():\n",
    "\n",
    "    def __init__(self,first,last,salary):\n",
    "        self.first#instance value = first #actual value\n",
    "        self.last = last\n",
    "        self.salary =salary\n",
    "\n",
    "def show(self):\n",
    "    print(self.first+''+'ok')"
   ]
  },
  {
   "cell_type": "code",
   "execution_count": 20,
   "id": "93e5393f-db73-4fdd-ac11-bc94681e3207",
   "metadata": {},
   "outputs": [],
   "source": [
    "emp1 = Employee('ravi','tyagi',55000)\n",
    "emp2 = Employee('neha','kulkarni',54000)"
   ]
  },
  {
   "cell_type": "code",
   "execution_count": 38,
   "id": "ae46eacd-8241-46fb-a311-892c4d783ae0",
   "metadata": {},
   "outputs": [
    {
     "data": {
      "text/plain": [
       "'ravi'"
      ]
     },
     "execution_count": 38,
     "metadata": {},
     "output_type": "execute_result"
    }
   ],
   "source": [
    "emp1.first"
   ]
  },
  {
   "cell_type": "code",
   "execution_count": 87,
   "id": "c5be7d53-5ca7-4cec-a42c-0846d75ab970",
   "metadata": {},
   "outputs": [],
   "source": [
    "#Encapsulation\n",
    "\n",
    "class Employee1:\n",
    "     def __init__(self,first,last,salary):\n",
    "        self.first = first\n",
    "        self.last = last\n",
    "        self._salary =salary  #creating a private variable\n",
    "\n",
    "def display(self):\n",
    "    print('salary is:',self.__salary)\n",
    "\n",
    "    "
   ]
  },
  {
   "cell_type": "code",
   "execution_count": 88,
   "id": "b4f96daf-d58e-4358-90b1-676601c3a413",
   "metadata": {},
   "outputs": [],
   "source": [
    "emp3=Employee1('Akash','tyagi',30000)\n",
    "emp4=Employee1('pranav','patil',32000)"
   ]
  },
  {
   "cell_type": "code",
   "execution_count": 89,
   "id": "f6c2b01d-11f2-4b02-8dce-78c8fd598437",
   "metadata": {},
   "outputs": [
    {
     "data": {
      "text/plain": [
       "'Akash'"
      ]
     },
     "execution_count": 89,
     "metadata": {},
     "output_type": "execute_result"
    }
   ],
   "source": [
    "emp3.first"
   ]
  },
  {
   "cell_type": "code",
   "execution_count": 83,
   "id": "969cf7b3-3cdc-475c-899d-c26bb397a417",
   "metadata": {},
   "outputs": [],
   "source": [
    "#inheritance\n",
    "\n",
    "class Employee2(Employee1):\n",
    "    pass"
   ]
  },
  {
   "cell_type": "code",
   "execution_count": 84,
   "id": "33b431fb-e779-4bd9-a356-145ec4abfc76",
   "metadata": {},
   "outputs": [],
   "source": [
    "employee5 = Employee2('aniket','rana',6000)"
   ]
  },
  {
   "cell_type": "code",
   "execution_count": 92,
   "id": "41e79117-d36a-485a-bca2-20cf53ea6678",
   "metadata": {},
   "outputs": [],
   "source": [
    "''''\n",
    "crate a class called person\n",
    "take in name,age,hobby....\n",
    "create multiple objects\n",
    "create a method to display all the info\n",
    "''';"
   ]
  },
  {
   "cell_type": "code",
   "execution_count": 105,
   "id": "37a1c5f6-976c-40c2-8351-4fd1611317ce",
   "metadata": {},
   "outputs": [],
   "source": [
    "\n",
    "class Person():\n",
    "    def _int_(name,age,hobby):\n",
    "        self.name = name\n",
    "        self.age = age\n",
    "        self.hobby = hobby\n",
    "    def display_info(self):\n",
    "        print(\"Name:\", self.name)\n",
    "        print(\"Age:\", self.age)\n",
    "        print(\"Hobby:\", self.hobby)\n",
    "        print()\n",
    "\n",
    "        "
   ]
  },
  {
   "cell_type": "code",
   "execution_count": null,
   "id": "1dc464ee-3938-4a60-b570-7e97cd6330e0",
   "metadata": {},
   "outputs": [],
   "source": []
  }
 ],
 "metadata": {
  "kernelspec": {
   "display_name": "Python 3 (ipykernel)",
   "language": "python",
   "name": "python3"
  },
  "language_info": {
   "codemirror_mode": {
    "name": "ipython",
    "version": 3
   },
   "file_extension": ".py",
   "mimetype": "text/x-python",
   "name": "python",
   "nbconvert_exporter": "python",
   "pygments_lexer": "ipython3",
   "version": "3.11.7"
  }
 },
 "nbformat": 4,
 "nbformat_minor": 5
}
